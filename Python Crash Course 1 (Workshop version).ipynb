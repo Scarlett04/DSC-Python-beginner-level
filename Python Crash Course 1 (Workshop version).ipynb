{
 "cells": [
  {
   "cell_type": "markdown",
   "id": "0b37d2c4",
   "metadata": {},
   "source": [
    "# Python Crash Course - Day 1\n",
    "\n",
    "\n",
    "Welcome to the Python Crash Course Workshop!\n",
    "\n",
    "Python is considered to be one of the most widely used programming languages in the field of data science since it offers a wide variety of libraries and tools to help us manipulate, analyze, and visualize data. \n",
    "\n",
    "In this section, we aim to introduce you to the fundamentals of Python. Today, we will cover these following contents:\n",
    "   1. **Data types**: Integer, Float, String, Boolean\n",
    "   2. **Variables**\n",
    "   3. **Arithmetic Operators**\n",
    "   4. **Printing**: String format, F-String\n",
    "   5. **Collections**: List, Dictionary, Tuple, Set"
   ]
  },
  {
   "cell_type": "markdown",
   "id": "00c70541",
   "metadata": {},
   "source": [
    "# I. First program"
   ]
  },
  {
   "cell_type": "markdown",
   "id": "043ba647",
   "metadata": {},
   "source": [
    "The **print()** function allows the program display a message on the screen.\n",
    "\n",
    "You can use comments to describe what you are trying to do with the program. The code in the comment is ignored when execute the program.\n",
    "* Windows: Ctrl + /\n",
    "* Mac OS: Command + /"
   ]
  },
  {
   "cell_type": "code",
   "execution_count": null,
   "id": "68b793c4",
   "metadata": {},
   "outputs": [],
   "source": [
    "# My Hello World program"
   ]
  },
  {
   "cell_type": "markdown",
   "id": "43dca7fa",
   "metadata": {},
   "source": [
    "# II. Data types"
   ]
  },
  {
   "cell_type": "markdown",
   "id": "1df88a77",
   "metadata": {},
   "source": [
    "### Numbers\n",
    "1. Integer: integer number\n",
    "2. Float: decimal number"
   ]
  },
  {
   "cell_type": "code",
   "execution_count": null,
   "id": "cc4dddc5",
   "metadata": {},
   "outputs": [],
   "source": [
    "# Plus"
   ]
  },
  {
   "cell_type": "code",
   "execution_count": null,
   "id": "ef85dde6",
   "metadata": {},
   "outputs": [],
   "source": [
    "# Minus"
   ]
  },
  {
   "cell_type": "code",
   "execution_count": null,
   "id": "a4f15354",
   "metadata": {},
   "outputs": [],
   "source": [
    "# Multiplication"
   ]
  },
  {
   "cell_type": "code",
   "execution_count": null,
   "id": "bdcbb144",
   "metadata": {},
   "outputs": [],
   "source": [
    "# Exponent"
   ]
  },
  {
   "cell_type": "code",
   "execution_count": null,
   "id": "71c4e341",
   "metadata": {},
   "outputs": [],
   "source": [
    "# Division: Return the value of the the division"
   ]
  },
  {
   "cell_type": "code",
   "execution_count": null,
   "id": "4b3c1936",
   "metadata": {},
   "outputs": [],
   "source": [
    "# Modulo: Return the remainder of the division"
   ]
  },
  {
   "cell_type": "code",
   "execution_count": null,
   "id": "020cd50d",
   "metadata": {},
   "outputs": [],
   "source": [
    "# Mixed"
   ]
  },
  {
   "cell_type": "markdown",
   "id": "9f862957",
   "metadata": {},
   "source": [
    "### String \n",
    "String is a piece of text. In Python, you can use either single quotes ('') or double quotes (\"\"). "
   ]
  },
  {
   "cell_type": "code",
   "execution_count": null,
   "id": "0ee77e2d",
   "metadata": {},
   "outputs": [],
   "source": [
    "# Create a string"
   ]
  },
  {
   "cell_type": "code",
   "execution_count": null,
   "id": "44de0256",
   "metadata": {},
   "outputs": [],
   "source": [
    "# Combine string"
   ]
  },
  {
   "cell_type": "code",
   "execution_count": null,
   "id": "83dc0ee2",
   "metadata": {},
   "outputs": [],
   "source": [
    "# Duplicate string"
   ]
  },
  {
   "cell_type": "markdown",
   "id": "207eca1d",
   "metadata": {},
   "source": [
    "### Boolean \n",
    "Boolean is a True/False value."
   ]
  },
  {
   "cell_type": "code",
   "execution_count": null,
   "id": "46646af7",
   "metadata": {},
   "outputs": [],
   "source": [
    "True"
   ]
  },
  {
   "cell_type": "code",
   "execution_count": null,
   "id": "ee00960a",
   "metadata": {},
   "outputs": [],
   "source": [
    "False"
   ]
  },
  {
   "cell_type": "markdown",
   "id": "55ab6af2",
   "metadata": {},
   "source": [
    "### Type conversion\n",
    "Convert one type to another:\n",
    "* integer: `int()`\n",
    "* float: `float()`\n",
    "* string: `str()`\n",
    "* boolean: `bool()`"
   ]
  },
  {
   "cell_type": "code",
   "execution_count": null,
   "id": "ea3bcbb2",
   "metadata": {},
   "outputs": [],
   "source": [
    "# Convert from integer to float"
   ]
  },
  {
   "cell_type": "code",
   "execution_count": null,
   "id": "3169e8ef",
   "metadata": {},
   "outputs": [],
   "source": [
    "# Convert from string to integer"
   ]
  },
  {
   "cell_type": "markdown",
   "id": "80242d4d",
   "metadata": {},
   "source": [
    "You can use **type()** to check the data type of a variable or an object."
   ]
  },
  {
   "cell_type": "code",
   "execution_count": null,
   "id": "8f7d8c29",
   "metadata": {},
   "outputs": [],
   "source": []
  },
  {
   "cell_type": "markdown",
   "id": "0b2d808e",
   "metadata": {},
   "source": [
    "# III. Variables\n",
    "Variable is a container to store a specific value. Declaring a variable can make your code more readable and easier to maintain.\n",
    "\n",
    "To define a variable in Python, you can use the following syntax:"
   ]
  },
  {
   "cell_type": "code",
   "execution_count": null,
   "id": "d36b8ee4",
   "metadata": {},
   "outputs": [],
   "source": []
  },
  {
   "cell_type": "markdown",
   "id": "36129c4b",
   "metadata": {},
   "source": [
    "You can also define multiple variables on a single line, separated by commas."
   ]
  },
  {
   "cell_type": "code",
   "execution_count": null,
   "id": "b0eb7376",
   "metadata": {},
   "outputs": [],
   "source": []
  },
  {
   "cell_type": "markdown",
   "id": "334593de",
   "metadata": {},
   "source": [
    "### Operators using variables\n",
    "\n",
    "Use arithmetic operators with variables to perform arithmetic operations on their values."
   ]
  },
  {
   "cell_type": "code",
   "execution_count": null,
   "id": "2e103e46",
   "metadata": {},
   "outputs": [],
   "source": []
  },
  {
   "cell_type": "code",
   "execution_count": null,
   "id": "361786f3",
   "metadata": {},
   "outputs": [],
   "source": []
  },
  {
   "cell_type": "markdown",
   "id": "f9b634f1",
   "metadata": {},
   "source": [
    "### How to name a variable in Python\n",
    "* Variable names should be in lowercase with words separated by underscores.\n",
    "* A variable cannot start with a number or a special character.\n",
    "* Avoid using Python keywords (such as print, min, max, etc.).\n",
    "* Use descriptive and meaningful names for variables and functions."
   ]
  },
  {
   "cell_type": "code",
   "execution_count": null,
   "id": "cb8e77ed",
   "metadata": {},
   "outputs": [],
   "source": []
  },
  {
   "cell_type": "markdown",
   "id": "37fd2663",
   "metadata": {},
   "source": [
    "### Printing"
   ]
  },
  {
   "cell_type": "code",
   "execution_count": null,
   "id": "a299f2a5",
   "metadata": {},
   "outputs": [],
   "source": []
  },
  {
   "cell_type": "markdown",
   "id": "c0713d98",
   "metadata": {},
   "source": [
    "### String format"
   ]
  },
  {
   "cell_type": "code",
   "execution_count": null,
   "id": "18bfe13c",
   "metadata": {},
   "outputs": [],
   "source": []
  },
  {
   "cell_type": "markdown",
   "id": "91c7193f",
   "metadata": {},
   "source": [
    "### F string"
   ]
  },
  {
   "cell_type": "code",
   "execution_count": null,
   "id": "cdfe665e",
   "metadata": {},
   "outputs": [],
   "source": []
  },
  {
   "cell_type": "markdown",
   "id": "0d48acbc",
   "metadata": {},
   "source": [
    "# IV. Collection\n",
    "\n",
    "Collections are containers to store other objects. In this workshop, we will learn about 4 types of collections in Python:\n",
    "1. List: ordered, mutable collection of elements.\n",
    "2. Tuple: ordered, immutable collection of elements.\n",
    "3. Set: unordered, mutable collection of **unique** elements.\n",
    "4. Dictionary: unordered, mutable collection of key-value pairs."
   ]
  },
  {
   "cell_type": "markdown",
   "id": "f1ef6a63",
   "metadata": {},
   "source": [
    "## 1 - List"
   ]
  },
  {
   "cell_type": "code",
   "execution_count": null,
   "id": "ffcab25b",
   "metadata": {},
   "outputs": [],
   "source": [
    "flowers = [\"rose\",\"daisy\",\"jasmine\"]\n",
    "mixed = [\"Data Science Club\", 17, True, [2, 4, 6]]"
   ]
  },
  {
   "cell_type": "markdown",
   "id": "890556cb",
   "metadata": {},
   "source": [
    "### List indexing\n",
    "\n",
    "The index of a list refers to the position of an element within the list.\n",
    "* To access the element from left to right, we count from 0.\n",
    "* To access the element from right to left, we count from -1."
   ]
  },
  {
   "cell_type": "code",
   "execution_count": null,
   "id": "bcd0eb2b",
   "metadata": {},
   "outputs": [],
   "source": []
  },
  {
   "cell_type": "code",
   "execution_count": 1,
   "id": "4b13c183",
   "metadata": {},
   "outputs": [],
   "source": [
    "# Change the value of an item in a list"
   ]
  },
  {
   "cell_type": "markdown",
   "id": "0b7f5374",
   "metadata": {},
   "source": [
    "Nested indexing allows us to access an element within a sublist:"
   ]
  },
  {
   "cell_type": "code",
   "execution_count": null,
   "id": "65698183",
   "metadata": {},
   "outputs": [],
   "source": []
  },
  {
   "cell_type": "markdown",
   "id": "5076e2ff",
   "metadata": {},
   "source": [
    "### List slicing\n",
    "\n",
    "A slice of a list refers to a subset the list. Syntax: `lst[start,end,step]`"
   ]
  },
  {
   "cell_type": "code",
   "execution_count": null,
   "id": "9ccb53fe",
   "metadata": {},
   "outputs": [],
   "source": [
    "lst = [0,1,2,3,4,5,6,7,8,9,10,10]"
   ]
  },
  {
   "cell_type": "code",
   "execution_count": null,
   "id": "040e92f3",
   "metadata": {},
   "outputs": [],
   "source": []
  },
  {
   "cell_type": "code",
   "execution_count": null,
   "id": "3b545f62",
   "metadata": {},
   "outputs": [],
   "source": []
  },
  {
   "cell_type": "code",
   "execution_count": null,
   "id": "d67fa250",
   "metadata": {},
   "outputs": [],
   "source": []
  },
  {
   "cell_type": "markdown",
   "id": "2bef6a0b",
   "metadata": {},
   "source": [
    "### Functions and operations with list"
   ]
  },
  {
   "cell_type": "markdown",
   "id": "0d740a72",
   "metadata": {},
   "source": [
    "**Add a new element to the list:**"
   ]
  },
  {
   "cell_type": "code",
   "execution_count": null,
   "id": "85c29330",
   "metadata": {},
   "outputs": [],
   "source": [
    "# Add an element to the end of a list"
   ]
  },
  {
   "cell_type": "markdown",
   "id": "b570abfa",
   "metadata": {},
   "source": [
    "**Remove an element from the list:**"
   ]
  },
  {
   "cell_type": "code",
   "execution_count": null,
   "id": "2c14c864",
   "metadata": {},
   "outputs": [],
   "source": [
    "# Remove the first element with the specific value"
   ]
  },
  {
   "cell_type": "code",
   "execution_count": null,
   "id": "06227216",
   "metadata": {},
   "outputs": [],
   "source": [
    "# Remove the element of the specific index"
   ]
  },
  {
   "cell_type": "markdown",
   "id": "5bf162bd",
   "metadata": {},
   "source": [
    "**Using arithmetic operators with list:**"
   ]
  },
  {
   "cell_type": "code",
   "execution_count": null,
   "id": "ece1ed53",
   "metadata": {},
   "outputs": [],
   "source": [
    "lst = [0,1,2,3,4,5]"
   ]
  },
  {
   "cell_type": "code",
   "execution_count": null,
   "id": "b3c0b3bb",
   "metadata": {},
   "outputs": [],
   "source": [
    "# Combine list"
   ]
  },
  {
   "cell_type": "code",
   "execution_count": null,
   "id": "d7f05a79",
   "metadata": {},
   "outputs": [],
   "source": [
    "# Duplicate list"
   ]
  },
  {
   "cell_type": "markdown",
   "id": "2a6b35c2",
   "metadata": {},
   "source": [
    "## 2 - Tuple"
   ]
  },
  {
   "cell_type": "code",
   "execution_count": 7,
   "id": "3e8cbf97",
   "metadata": {},
   "outputs": [],
   "source": [
    "tp = (\"Data\",\"Science\",\"Club\")"
   ]
  },
  {
   "cell_type": "markdown",
   "id": "173fdf8e",
   "metadata": {},
   "source": [
    "**Tuple indexing**"
   ]
  },
  {
   "cell_type": "code",
   "execution_count": null,
   "id": "25d9ea54",
   "metadata": {},
   "outputs": [],
   "source": []
  },
  {
   "cell_type": "code",
   "execution_count": null,
   "id": "148e6767",
   "metadata": {},
   "outputs": [],
   "source": []
  },
  {
   "cell_type": "code",
   "execution_count": null,
   "id": "ba5ad9d1",
   "metadata": {},
   "outputs": [],
   "source": [
    "# Change the value of an item in a tuple"
   ]
  },
  {
   "cell_type": "code",
   "execution_count": 1,
   "id": "0d3b8fff",
   "metadata": {},
   "outputs": [],
   "source": [
    "# Combine and duplicate tuple"
   ]
  },
  {
   "cell_type": "code",
   "execution_count": null,
   "id": "53bf92ff",
   "metadata": {},
   "outputs": [],
   "source": [
    "# Application"
   ]
  },
  {
   "cell_type": "markdown",
   "id": "9661945d",
   "metadata": {},
   "source": [
    "## 3 - Set"
   ]
  },
  {
   "cell_type": "code",
   "execution_count": 9,
   "id": "f6aa06b2",
   "metadata": {},
   "outputs": [
    {
     "data": {
      "text/plain": [
       "{0, 1, 2, 3}"
      ]
     },
     "execution_count": 9,
     "metadata": {},
     "output_type": "execute_result"
    }
   ],
   "source": [
    "sets = {0,0,0,1,2,3,3,2,2}\n",
    "sets"
   ]
  },
  {
   "cell_type": "markdown",
   "id": "cf07b493",
   "metadata": {},
   "source": [
    "**Set indexing**"
   ]
  },
  {
   "cell_type": "code",
   "execution_count": null,
   "id": "d2cf8598",
   "metadata": {},
   "outputs": [],
   "source": []
  },
  {
   "cell_type": "code",
   "execution_count": null,
   "id": "4ebd72bf",
   "metadata": {},
   "outputs": [],
   "source": [
    "# Add an element to a set"
   ]
  },
  {
   "cell_type": "code",
   "execution_count": 10,
   "id": "ec5e34d8",
   "metadata": {},
   "outputs": [],
   "source": [
    "# Remove an element from a set"
   ]
  },
  {
   "cell_type": "markdown",
   "id": "77814f8a",
   "metadata": {},
   "source": [
    "Set is a collection of unique values and cannot be combined nor duplicated."
   ]
  },
  {
   "cell_type": "code",
   "execution_count": null,
   "id": "ef0d5117",
   "metadata": {
    "scrolled": true
   },
   "outputs": [],
   "source": [
    "sets += {1,2,3,4,5,6,7}"
   ]
  },
  {
   "cell_type": "markdown",
   "id": "b25cc74b",
   "metadata": {},
   "source": [
    "## 4 - Dictionary"
   ]
  },
  {
   "cell_type": "code",
   "execution_count": null,
   "id": "73a82a43",
   "metadata": {},
   "outputs": [],
   "source": [
    "# A pair of key-value\n",
    "flowers = {\n",
    "    \"rose\": \"red\",\n",
    "    \"sunflower\": \"blue\"\n",
    "}"
   ]
  },
  {
   "cell_type": "markdown",
   "id": "1b107015",
   "metadata": {},
   "source": [
    "**Does dictionary have index?**"
   ]
  },
  {
   "cell_type": "code",
   "execution_count": null,
   "id": "3e437220",
   "metadata": {},
   "outputs": [],
   "source": []
  },
  {
   "cell_type": "markdown",
   "id": "9cd843b7",
   "metadata": {},
   "source": [
    "**Access dictionary keys and values:**"
   ]
  },
  {
   "cell_type": "code",
   "execution_count": null,
   "id": "c1eba73a",
   "metadata": {},
   "outputs": [],
   "source": [
    "# Access dictionary value through key"
   ]
  },
  {
   "cell_type": "code",
   "execution_count": null,
   "id": "ee3f6464",
   "metadata": {},
   "outputs": [],
   "source": [
    "# Return all the keys in the dictionary"
   ]
  },
  {
   "cell_type": "code",
   "execution_count": null,
   "id": "fe7bda84",
   "metadata": {},
   "outputs": [],
   "source": [
    "# Return all the values in the dictionary"
   ]
  },
  {
   "cell_type": "code",
   "execution_count": null,
   "id": "a434a796",
   "metadata": {},
   "outputs": [],
   "source": [
    "# Return key-value pairs as tuples"
   ]
  },
  {
   "cell_type": "markdown",
   "id": "b8d8c38b",
   "metadata": {},
   "source": [
    "**Modify the value of an existing key:**"
   ]
  },
  {
   "cell_type": "code",
   "execution_count": null,
   "id": "a58a8515",
   "metadata": {},
   "outputs": [],
   "source": []
  },
  {
   "cell_type": "markdown",
   "id": "ff5f406d",
   "metadata": {},
   "source": [
    "**Add a new key-value pair:**"
   ]
  },
  {
   "cell_type": "code",
   "execution_count": null,
   "id": "4badcced",
   "metadata": {},
   "outputs": [],
   "source": []
  },
  {
   "cell_type": "code",
   "execution_count": null,
   "id": "ff244126",
   "metadata": {},
   "outputs": [],
   "source": []
  },
  {
   "cell_type": "markdown",
   "id": "594d6d3a",
   "metadata": {},
   "source": [
    "### Defaultdict"
   ]
  },
  {
   "cell_type": "code",
   "execution_count": null,
   "id": "b274b542",
   "metadata": {},
   "outputs": [],
   "source": [
    "# import defaultdict"
   ]
  },
  {
   "cell_type": "code",
   "execution_count": null,
   "id": "6598b2dc",
   "metadata": {},
   "outputs": [],
   "source": [
    "grocery = defaultdict(int)\n",
    "\n",
    "grocery[\"apple\"] = 5\n",
    "grocery[\"orange\"] = 3\n",
    "grocery[\"egg\"] = 10"
   ]
  },
  {
   "cell_type": "code",
   "execution_count": null,
   "id": "19bc6f54",
   "metadata": {},
   "outputs": [],
   "source": []
  },
  {
   "cell_type": "code",
   "execution_count": null,
   "id": "9a0b0a7c",
   "metadata": {},
   "outputs": [],
   "source": []
  },
  {
   "cell_type": "markdown",
   "id": "451d846c",
   "metadata": {},
   "source": [
    "**Sorting dictionary:**"
   ]
  },
  {
   "cell_type": "code",
   "execution_count": null,
   "id": "492c6e13",
   "metadata": {},
   "outputs": [],
   "source": [
    "# Sort a dictionary by keys"
   ]
  },
  {
   "cell_type": "code",
   "execution_count": null,
   "id": "acf3d9f5",
   "metadata": {},
   "outputs": [],
   "source": [
    "# Sort a dictionary by values"
   ]
  }
 ],
 "metadata": {
  "kernelspec": {
   "display_name": "Python 3 (ipykernel)",
   "language": "python",
   "name": "python3"
  },
  "language_info": {
   "codemirror_mode": {
    "name": "ipython",
    "version": 3
   },
   "file_extension": ".py",
   "mimetype": "text/x-python",
   "name": "python",
   "nbconvert_exporter": "python",
   "pygments_lexer": "ipython3",
   "version": "3.9.12"
  },
  "widgets": {
   "application/vnd.jupyter.widget-state+json": {
    "state": {},
    "version_major": 2,
    "version_minor": 0
   }
  }
 },
 "nbformat": 4,
 "nbformat_minor": 5
}
