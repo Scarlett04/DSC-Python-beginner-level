{
 "cells": [
  {
   "cell_type": "markdown",
   "id": "0b37d2c4",
   "metadata": {},
   "source": [
    "# Python Crash Course - Day 1\n",
    "\n",
    "\n",
    "Welcome to the Python Crash Course Workshop!\n",
    "\n",
    "Python is considered to be one of the most widely used programming languages in the field of data science since it offers a wide variety of libraries and tools to help us manipulate, analyze, and visualize data. \n",
    "\n",
    "In this section, we aim to introduce you to the fundamentals of Python. Today, we will cover these following contents:\n",
    "   1. **Data types**: Integer, Float, String, Boolean\n",
    "   2. **Variables**\n",
    "   3. **Arithmetic Operators**\n",
    "   4. **Printing**: String format, F-String\n",
    "   5. **Collections**: List, Dictionary, Tuple, Set"
   ]
  },
  {
   "cell_type": "markdown",
   "id": "00c70541",
   "metadata": {},
   "source": [
    "# I. First program"
   ]
  },
  {
   "cell_type": "markdown",
   "id": "043ba647",
   "metadata": {},
   "source": [
    "The **print()** function allows the program display a message on the screen.\n",
    "\n",
    "You can use comments to describe what you are trying to do with the program. The code in the comment is ignored when execute the program.\n",
    "* Windows: Ctrl + /\n",
    "* Mac OS: Command + /"
   ]
  },
  {
   "cell_type": "code",
   "execution_count": 1,
   "id": "68b793c4",
   "metadata": {},
   "outputs": [
    {
     "name": "stdout",
     "output_type": "stream",
     "text": [
      "Hello, World!\n"
     ]
    }
   ],
   "source": [
    "# My Hello World program\n",
    "print(\"Hello, World!\")"
   ]
  },
  {
   "cell_type": "markdown",
   "id": "43dca7fa",
   "metadata": {},
   "source": [
    "# II. Data types"
   ]
  },
  {
   "cell_type": "markdown",
   "id": "1df88a77",
   "metadata": {},
   "source": [
    "### Numbers\n",
    "1. Integer: integer number\n",
    "2. Float: decimal number"
   ]
  },
  {
   "cell_type": "code",
   "execution_count": 2,
   "id": "cc4dddc5",
   "metadata": {},
   "outputs": [
    {
     "data": {
      "text/plain": [
       "27"
      ]
     },
     "execution_count": 2,
     "metadata": {},
     "output_type": "execute_result"
    }
   ],
   "source": [
    "# Plus\n",
    "17 + 10"
   ]
  },
  {
   "cell_type": "code",
   "execution_count": 3,
   "id": "ef85dde6",
   "metadata": {},
   "outputs": [
    {
     "data": {
      "text/plain": [
       "-70"
      ]
     },
     "execution_count": 3,
     "metadata": {},
     "output_type": "execute_result"
    }
   ],
   "source": [
    "# Minus\n",
    "30 - 100"
   ]
  },
  {
   "cell_type": "code",
   "execution_count": 4,
   "id": "a4f15354",
   "metadata": {},
   "outputs": [
    {
     "data": {
      "text/plain": [
       "27"
      ]
     },
     "execution_count": 4,
     "metadata": {},
     "output_type": "execute_result"
    }
   ],
   "source": [
    "# Multiplication\n",
    "9 * 3"
   ]
  },
  {
   "cell_type": "code",
   "execution_count": 5,
   "id": "bdcbb144",
   "metadata": {},
   "outputs": [
    {
     "data": {
      "text/plain": [
       "27"
      ]
     },
     "execution_count": 5,
     "metadata": {},
     "output_type": "execute_result"
    }
   ],
   "source": [
    "# Exponent\n",
    "3 ** 3"
   ]
  },
  {
   "cell_type": "code",
   "execution_count": 6,
   "id": "71c4e341",
   "metadata": {},
   "outputs": [
    {
     "data": {
      "text/plain": [
       "9.5"
      ]
     },
     "execution_count": 6,
     "metadata": {},
     "output_type": "execute_result"
    }
   ],
   "source": [
    "# Division: Return the value of the the division\n",
    "57 / 6"
   ]
  },
  {
   "cell_type": "code",
   "execution_count": 7,
   "id": "4b3c1936",
   "metadata": {},
   "outputs": [
    {
     "data": {
      "text/plain": [
       "3"
      ]
     },
     "execution_count": 7,
     "metadata": {},
     "output_type": "execute_result"
    }
   ],
   "source": [
    "# Modulo: Return the remainder of the division\n",
    "57 % 6"
   ]
  },
  {
   "cell_type": "code",
   "execution_count": 8,
   "id": "020cd50d",
   "metadata": {},
   "outputs": [
    {
     "data": {
      "text/plain": [
       "370"
      ]
     },
     "execution_count": 8,
     "metadata": {},
     "output_type": "execute_result"
    }
   ],
   "source": [
    "(82 - 8) * (5)"
   ]
  },
  {
   "cell_type": "markdown",
   "id": "9f862957",
   "metadata": {},
   "source": [
    "### String \n",
    "String is a piece of text. In Python, you can use either single quotes ('') or double quotes (\"\"). "
   ]
  },
  {
   "cell_type": "code",
   "execution_count": 9,
   "id": "0ee77e2d",
   "metadata": {},
   "outputs": [
    {
     "data": {
      "text/plain": [
       "'This is a string'"
      ]
     },
     "execution_count": 9,
     "metadata": {},
     "output_type": "execute_result"
    }
   ],
   "source": [
    "\"This is a string\""
   ]
  },
  {
   "cell_type": "code",
   "execution_count": 10,
   "id": "44de0256",
   "metadata": {},
   "outputs": [
    {
     "data": {
      "text/plain": [
       "'Welcome to Data Science Club'"
      ]
     },
     "execution_count": 10,
     "metadata": {},
     "output_type": "execute_result"
    }
   ],
   "source": [
    "# Combine string\n",
    "\"Welcome to \" + \"Data Science Club\""
   ]
  },
  {
   "cell_type": "code",
   "execution_count": 11,
   "id": "83dc0ee2",
   "metadata": {},
   "outputs": [
    {
     "data": {
      "text/plain": [
       "'Data Science Data Science Data Science '"
      ]
     },
     "execution_count": 11,
     "metadata": {},
     "output_type": "execute_result"
    }
   ],
   "source": [
    "# Duplicate string\n",
    "'Data Science ' * 3"
   ]
  },
  {
   "cell_type": "markdown",
   "id": "207eca1d",
   "metadata": {},
   "source": [
    "### Boolean \n",
    "Boolean is a True/False value."
   ]
  },
  {
   "cell_type": "code",
   "execution_count": 12,
   "id": "46646af7",
   "metadata": {},
   "outputs": [
    {
     "data": {
      "text/plain": [
       "True"
      ]
     },
     "execution_count": 12,
     "metadata": {},
     "output_type": "execute_result"
    }
   ],
   "source": [
    "True"
   ]
  },
  {
   "cell_type": "code",
   "execution_count": 13,
   "id": "ee00960a",
   "metadata": {},
   "outputs": [
    {
     "data": {
      "text/plain": [
       "False"
      ]
     },
     "execution_count": 13,
     "metadata": {},
     "output_type": "execute_result"
    }
   ],
   "source": [
    "False"
   ]
  },
  {
   "cell_type": "markdown",
   "id": "55ab6af2",
   "metadata": {},
   "source": [
    "### Type conversion\n",
    "Convert one type to another:\n",
    "* integer: `int()`\n",
    "* float: `float()`\n",
    "* string: `str()`\n",
    "* boolean: `bool()`"
   ]
  },
  {
   "cell_type": "code",
   "execution_count": 14,
   "id": "ea3bcbb2",
   "metadata": {},
   "outputs": [
    {
     "data": {
      "text/plain": [
       "10.0"
      ]
     },
     "execution_count": 14,
     "metadata": {},
     "output_type": "execute_result"
    }
   ],
   "source": [
    "float(10)"
   ]
  },
  {
   "cell_type": "code",
   "execution_count": 15,
   "id": "3169e8ef",
   "metadata": {},
   "outputs": [
    {
     "data": {
      "text/plain": [
       "24"
      ]
     },
     "execution_count": 15,
     "metadata": {},
     "output_type": "execute_result"
    }
   ],
   "source": [
    "int(\"24\")"
   ]
  },
  {
   "cell_type": "markdown",
   "id": "80242d4d",
   "metadata": {},
   "source": [
    "You can use **type()** to check the data type of a variable or an object."
   ]
  },
  {
   "cell_type": "code",
   "execution_count": 16,
   "id": "8f7d8c29",
   "metadata": {},
   "outputs": [
    {
     "data": {
      "text/plain": [
       "bool"
      ]
     },
     "execution_count": 16,
     "metadata": {},
     "output_type": "execute_result"
    }
   ],
   "source": [
    "type(True)"
   ]
  },
  {
   "cell_type": "markdown",
   "id": "0b2d808e",
   "metadata": {},
   "source": [
    "# III. Variables\n",
    "Variable is a container to store a specific value. Declaring a variable can make your code more readable and easier to maintain.\n",
    "\n",
    "To define a variable in Python, you can use the following syntax:"
   ]
  },
  {
   "cell_type": "code",
   "execution_count": 17,
   "id": "d36b8ee4",
   "metadata": {},
   "outputs": [],
   "source": [
    "x = 100"
   ]
  },
  {
   "cell_type": "markdown",
   "id": "36129c4b",
   "metadata": {},
   "source": [
    "You can also define multiple variables on a single line, separated by commas."
   ]
  },
  {
   "cell_type": "code",
   "execution_count": 18,
   "id": "b0eb7376",
   "metadata": {},
   "outputs": [],
   "source": [
    "a, b, c = \"Data Science\", 17, True"
   ]
  },
  {
   "cell_type": "markdown",
   "id": "334593de",
   "metadata": {},
   "source": [
    "### Operators using variables\n",
    "\n",
    "Use arithmetic operators with variables to perform arithmetic operations on their values."
   ]
  },
  {
   "cell_type": "code",
   "execution_count": 19,
   "id": "2e103e46",
   "metadata": {},
   "outputs": [],
   "source": [
    "x = x + b"
   ]
  },
  {
   "cell_type": "code",
   "execution_count": 20,
   "id": "361786f3",
   "metadata": {},
   "outputs": [
    {
     "data": {
      "text/plain": [
       "1989"
      ]
     },
     "execution_count": 20,
     "metadata": {},
     "output_type": "execute_result"
    }
   ],
   "source": [
    "x *= b\n",
    "x"
   ]
  },
  {
   "cell_type": "markdown",
   "id": "f9b634f1",
   "metadata": {},
   "source": [
    "### How to name a variable in Python\n",
    "* Variable names should be in lowercase with words separated by underscores.\n",
    "* A variable cannot start with a number or a special character.\n",
    "* Avoid using Python keywords (such as print, min, max, etc.).\n",
    "* Use descriptive and meaningful names for variables and functions."
   ]
  },
  {
   "cell_type": "code",
   "execution_count": 21,
   "id": "cb8e77ed",
   "metadata": {},
   "outputs": [],
   "source": [
    "item = \"laptop\"\n",
    "product_cost = 200"
   ]
  },
  {
   "cell_type": "code",
   "execution_count": 22,
   "id": "a299f2a5",
   "metadata": {},
   "outputs": [
    {
     "name": "stdout",
     "output_type": "stream",
     "text": [
      "The laptop costs $200\n"
     ]
    }
   ],
   "source": [
    "print(\"The \" + item + \" costs $\" + str(product_cost))"
   ]
  },
  {
   "cell_type": "markdown",
   "id": "c0713d98",
   "metadata": {},
   "source": [
    "### String format"
   ]
  },
  {
   "cell_type": "code",
   "execution_count": 23,
   "id": "18bfe13c",
   "metadata": {},
   "outputs": [
    {
     "name": "stdout",
     "output_type": "stream",
     "text": [
      "The laptop costs $200\n",
      "The laptop costs $350\n"
     ]
    }
   ],
   "source": [
    "print(\"The {} costs ${}\".format(item, product_cost))\n",
    "print(\"The {one} costs ${two}\".format(one=item, two=product_cost+150))"
   ]
  },
  {
   "cell_type": "markdown",
   "id": "91c7193f",
   "metadata": {},
   "source": [
    "### F string"
   ]
  },
  {
   "cell_type": "code",
   "execution_count": 24,
   "id": "cdfe665e",
   "metadata": {},
   "outputs": [
    {
     "name": "stdout",
     "output_type": "stream",
     "text": [
      "The laptop costs $600.\n"
     ]
    }
   ],
   "source": [
    "print(f\"The {item} costs ${product_cost*3}.\")"
   ]
  },
  {
   "cell_type": "markdown",
   "id": "0d48acbc",
   "metadata": {},
   "source": [
    "# IV. Collection\n",
    "\n",
    "Collections are containers to store other objects. In this workshop, we will learn about 4 types of collections in Python:\n",
    "1. List: ordered, mutable collection of elements.\n",
    "2. Tuple: ordered, immutable collection of elements.\n",
    "3. Set: unordered, mutable collection of **unique** elements.\n",
    "4. Dictionary: unordered, mutable collection of key-value pairs."
   ]
  },
  {
   "cell_type": "markdown",
   "id": "f1ef6a63",
   "metadata": {},
   "source": [
    "## 1 - List"
   ]
  },
  {
   "cell_type": "code",
   "execution_count": 25,
   "id": "ffcab25b",
   "metadata": {},
   "outputs": [],
   "source": [
    "flowers = [\"rose\",\"daisy\",\"jasmine\"]\n",
    "mixed = [\"Data Science Club\", 17, True, [2, 4, 6]]"
   ]
  },
  {
   "cell_type": "markdown",
   "id": "890556cb",
   "metadata": {},
   "source": [
    "### List indexing\n",
    "\n",
    "The index of a list refers to the position of an element within the list.\n",
    "* To access the element from left to right, we count from 0.\n",
    "* To access the element from right to left, we count from -1."
   ]
  },
  {
   "cell_type": "code",
   "execution_count": 26,
   "id": "bcd0eb2b",
   "metadata": {},
   "outputs": [
    {
     "data": {
      "text/plain": [
       "'rose'"
      ]
     },
     "execution_count": 26,
     "metadata": {},
     "output_type": "execute_result"
    }
   ],
   "source": [
    "flowers[0]"
   ]
  },
  {
   "cell_type": "code",
   "execution_count": 27,
   "id": "4b13c183",
   "metadata": {},
   "outputs": [
    {
     "data": {
      "text/plain": [
       "['Data Science Club', 17, False, [2, 4, 6]]"
      ]
     },
     "execution_count": 27,
     "metadata": {},
     "output_type": "execute_result"
    }
   ],
   "source": [
    "# Change the value of an item in a list\n",
    "mixed[-2] = False\n",
    "mixed"
   ]
  },
  {
   "cell_type": "markdown",
   "id": "6dbf6a84",
   "metadata": {},
   "source": [
    "Nested indexing allows us to access an element within a sublist:"
   ]
  },
  {
   "cell_type": "code",
   "execution_count": 28,
   "id": "65698183",
   "metadata": {},
   "outputs": [
    {
     "data": {
      "text/plain": [
       "6"
      ]
     },
     "execution_count": 28,
     "metadata": {},
     "output_type": "execute_result"
    }
   ],
   "source": [
    "mixed[3][2]"
   ]
  },
  {
   "cell_type": "markdown",
   "id": "5076e2ff",
   "metadata": {},
   "source": [
    "### List slicing\n",
    "\n",
    "A slice of a list refers to a subset the list. Syntax: `lst[start,end,step]`"
   ]
  },
  {
   "cell_type": "code",
   "execution_count": 29,
   "id": "9ccb53fe",
   "metadata": {},
   "outputs": [],
   "source": [
    "lst = [0,1,2,3,4,5,6,7,8,9,10,10]"
   ]
  },
  {
   "cell_type": "code",
   "execution_count": 30,
   "id": "040e92f3",
   "metadata": {},
   "outputs": [
    {
     "data": {
      "text/plain": [
       "[1, 2, 3, 4]"
      ]
     },
     "execution_count": 30,
     "metadata": {},
     "output_type": "execute_result"
    }
   ],
   "source": [
    "lst[1:5]"
   ]
  },
  {
   "cell_type": "code",
   "execution_count": 31,
   "id": "3b545f62",
   "metadata": {},
   "outputs": [
    {
     "data": {
      "text/plain": [
       "[8, 9, 10, 10]"
      ]
     },
     "execution_count": 31,
     "metadata": {},
     "output_type": "execute_result"
    }
   ],
   "source": [
    "lst[-4:]"
   ]
  },
  {
   "cell_type": "code",
   "execution_count": 32,
   "id": "d67fa250",
   "metadata": {},
   "outputs": [
    {
     "data": {
      "text/plain": [
       "[0, 2, 4, 6, 8, 10]"
      ]
     },
     "execution_count": 32,
     "metadata": {},
     "output_type": "execute_result"
    }
   ],
   "source": [
    "lst[::2]"
   ]
  },
  {
   "cell_type": "markdown",
   "id": "2bef6a0b",
   "metadata": {},
   "source": [
    "### Functions and operations with list"
   ]
  },
  {
   "cell_type": "markdown",
   "id": "0d740a72",
   "metadata": {},
   "source": [
    "**Add a new element to the list:**"
   ]
  },
  {
   "cell_type": "code",
   "execution_count": 33,
   "id": "85c29330",
   "metadata": {},
   "outputs": [
    {
     "data": {
      "text/plain": [
       "[0, 1, 2, 3, 4, 5, 6, 7, 8, 9, 10, 10, [11, 12, 13, 14, 15]]"
      ]
     },
     "execution_count": 33,
     "metadata": {},
     "output_type": "execute_result"
    }
   ],
   "source": [
    "# Add an element to the end of a list\n",
    "lst.append([11,12,13,14,15])\n",
    "lst"
   ]
  },
  {
   "cell_type": "markdown",
   "id": "b570abfa",
   "metadata": {},
   "source": [
    "**Remove an element from the list:**"
   ]
  },
  {
   "cell_type": "code",
   "execution_count": 34,
   "id": "2c14c864",
   "metadata": {},
   "outputs": [
    {
     "data": {
      "text/plain": [
       "[0, 1, 2, 3, 4, 5, 6, 7, 8, 9, 10, [11, 12, 13, 14, 15]]"
      ]
     },
     "execution_count": 34,
     "metadata": {},
     "output_type": "execute_result"
    }
   ],
   "source": [
    "# Remove the first element with the specific value\n",
    "lst.remove(10)\n",
    "lst"
   ]
  },
  {
   "cell_type": "code",
   "execution_count": 35,
   "id": "06227216",
   "metadata": {},
   "outputs": [
    {
     "data": {
      "text/plain": [
       "[0, 1, 2, 3, 4, 6, 7, 8, 9, 10, [11, 12, 13, 14, 15]]"
      ]
     },
     "execution_count": 35,
     "metadata": {},
     "output_type": "execute_result"
    }
   ],
   "source": [
    "# Remove the element of the specific index\n",
    "lst.pop(5)\n",
    "lst"
   ]
  },
  {
   "cell_type": "markdown",
   "id": "5bf162bd",
   "metadata": {},
   "source": [
    "**Using arithmetic operators with list:**"
   ]
  },
  {
   "cell_type": "code",
   "execution_count": 36,
   "id": "ece1ed53",
   "metadata": {},
   "outputs": [],
   "source": [
    "lst = [0,1,2,3,4,5]"
   ]
  },
  {
   "cell_type": "code",
   "execution_count": 37,
   "id": "b3c0b3bb",
   "metadata": {},
   "outputs": [
    {
     "data": {
      "text/plain": [
       "[0, 1, 2, 3, 4, 5, 5, 4, 3, 2, 1, 0]"
      ]
     },
     "execution_count": 37,
     "metadata": {},
     "output_type": "execute_result"
    }
   ],
   "source": [
    "# Combine list\n",
    "lst + lst[::-1]"
   ]
  },
  {
   "cell_type": "code",
   "execution_count": 38,
   "id": "d7f05a79",
   "metadata": {},
   "outputs": [
    {
     "data": {
      "text/plain": [
       "[0, 1, 2, 3, 4, 5, 0, 1, 2, 3, 4, 5, 0, 1, 2, 3, 4, 5]"
      ]
     },
     "execution_count": 38,
     "metadata": {},
     "output_type": "execute_result"
    }
   ],
   "source": [
    "# Duplicate list\n",
    "lst * 3"
   ]
  },
  {
   "cell_type": "markdown",
   "id": "2a6b35c2",
   "metadata": {},
   "source": [
    "## 2 - Tuple"
   ]
  },
  {
   "cell_type": "code",
   "execution_count": 39,
   "id": "3e8cbf97",
   "metadata": {},
   "outputs": [],
   "source": [
    "tp = (\"Data\",\"Science\",\"Club\")"
   ]
  },
  {
   "cell_type": "markdown",
   "id": "dae51c02",
   "metadata": {},
   "source": [
    "**Tuple indexing**"
   ]
  },
  {
   "cell_type": "code",
   "execution_count": 40,
   "id": "25d9ea54",
   "metadata": {},
   "outputs": [
    {
     "data": {
      "text/plain": [
       "'Club'"
      ]
     },
     "execution_count": 40,
     "metadata": {},
     "output_type": "execute_result"
    }
   ],
   "source": [
    "tp[-1]"
   ]
  },
  {
   "cell_type": "code",
   "execution_count": 41,
   "id": "148e6767",
   "metadata": {},
   "outputs": [
    {
     "data": {
      "text/plain": [
       "('Data', 'Science')"
      ]
     },
     "execution_count": 41,
     "metadata": {},
     "output_type": "execute_result"
    }
   ],
   "source": [
    "tp[:2]"
   ]
  },
  {
   "cell_type": "code",
   "execution_count": 42,
   "id": "ba5ad9d1",
   "metadata": {},
   "outputs": [
    {
     "ename": "TypeError",
     "evalue": "'tuple' object does not support item assignment",
     "output_type": "error",
     "traceback": [
      "\u001b[1;31m---------------------------------------------------------------------------\u001b[0m",
      "\u001b[1;31mTypeError\u001b[0m                                 Traceback (most recent call last)",
      "Input \u001b[1;32mIn [42]\u001b[0m, in \u001b[0;36m<cell line: 2>\u001b[1;34m()\u001b[0m\n\u001b[0;32m      1\u001b[0m \u001b[38;5;66;03m# Change the value of an item in a tuple\u001b[39;00m\n\u001b[1;32m----> 2\u001b[0m tp[\u001b[38;5;241m0\u001b[39m] \u001b[38;5;241m=\u001b[39m \u001b[38;5;124m\"\u001b[39m\u001b[38;5;124mComputer\u001b[39m\u001b[38;5;124m\"\u001b[39m\n",
      "\u001b[1;31mTypeError\u001b[0m: 'tuple' object does not support item assignment"
     ]
    }
   ],
   "source": [
    "# Change the value of an item in a tuple\n",
    "tp[0] = \"Computer\""
   ]
  },
  {
   "cell_type": "code",
   "execution_count": 43,
   "id": "0d3b8fff",
   "metadata": {},
   "outputs": [
    {
     "data": {
      "text/plain": [
       "('Data',\n",
       " 'Science',\n",
       " 'Club',\n",
       " 'Data',\n",
       " 'Science',\n",
       " 'Club',\n",
       " 'Data',\n",
       " 'Science',\n",
       " 'Club')"
      ]
     },
     "execution_count": 43,
     "metadata": {},
     "output_type": "execute_result"
    }
   ],
   "source": [
    "# Combine and duplicate tuple\n",
    "tp * 3"
   ]
  },
  {
   "cell_type": "code",
   "execution_count": 8,
   "id": "d496c9d8",
   "metadata": {},
   "outputs": [
    {
     "data": {
      "text/plain": [
       "(('server_address', '127.0.0.1'),\n",
       " ('server_port', 8080),\n",
       " ('max_connections', 100),\n",
       " ('debug', False))"
      ]
     },
     "execution_count": 8,
     "metadata": {},
     "output_type": "execute_result"
    }
   ],
   "source": [
    "# Application\n",
    "config_keys = ['server_address', 'server_port', 'max_connections', 'debug']\n",
    "config_values = ['127.0.0.1', 8080, 100, False]\n",
    "config = tuple(zip(config_keys, config_values))\n",
    "config"
   ]
  },
  {
   "cell_type": "markdown",
   "id": "9661945d",
   "metadata": {},
   "source": [
    "## 3 - Set"
   ]
  },
  {
   "cell_type": "code",
   "execution_count": 45,
   "id": "f6aa06b2",
   "metadata": {},
   "outputs": [
    {
     "data": {
      "text/plain": [
       "{0, 1, 2, 3}"
      ]
     },
     "execution_count": 45,
     "metadata": {},
     "output_type": "execute_result"
    }
   ],
   "source": [
    "sets = {0,0,0,1,2,3,3,2,2}\n",
    "sets"
   ]
  },
  {
   "cell_type": "markdown",
   "id": "ad75426f",
   "metadata": {},
   "source": [
    "**Set indexing**"
   ]
  },
  {
   "cell_type": "code",
   "execution_count": 46,
   "id": "d2cf8598",
   "metadata": {},
   "outputs": [
    {
     "ename": "TypeError",
     "evalue": "'set' object is not subscriptable",
     "output_type": "error",
     "traceback": [
      "\u001b[1;31m---------------------------------------------------------------------------\u001b[0m",
      "\u001b[1;31mTypeError\u001b[0m                                 Traceback (most recent call last)",
      "Input \u001b[1;32mIn [46]\u001b[0m, in \u001b[0;36m<cell line: 1>\u001b[1;34m()\u001b[0m\n\u001b[1;32m----> 1\u001b[0m \u001b[43msets\u001b[49m\u001b[43m[\u001b[49m\u001b[38;5;241;43m1\u001b[39;49m\u001b[43m]\u001b[49m\n",
      "\u001b[1;31mTypeError\u001b[0m: 'set' object is not subscriptable"
     ]
    }
   ],
   "source": [
    "sets[1]"
   ]
  },
  {
   "cell_type": "code",
   "execution_count": 47,
   "id": "4ebd72bf",
   "metadata": {},
   "outputs": [
    {
     "data": {
      "text/plain": [
       "{0, 1, 2, 3, 4}"
      ]
     },
     "execution_count": 47,
     "metadata": {},
     "output_type": "execute_result"
    }
   ],
   "source": [
    "# Add an element to a set\n",
    "sets.add(4)\n",
    "sets"
   ]
  },
  {
   "cell_type": "code",
   "execution_count": 48,
   "id": "ec5e34d8",
   "metadata": {},
   "outputs": [
    {
     "data": {
      "text/plain": [
       "{0, 1, 3, 4}"
      ]
     },
     "execution_count": 48,
     "metadata": {},
     "output_type": "execute_result"
    }
   ],
   "source": [
    "# Remove an element from a set\n",
    "sets.remove(2)\n",
    "sets"
   ]
  },
  {
   "cell_type": "markdown",
   "id": "989ffde7",
   "metadata": {},
   "source": [
    "Set is a collection of unique values and cannot be combined nor duplicated."
   ]
  },
  {
   "cell_type": "code",
   "execution_count": 49,
   "id": "ef0d5117",
   "metadata": {},
   "outputs": [
    {
     "ename": "TypeError",
     "evalue": "unsupported operand type(s) for +=: 'set' and 'set'",
     "output_type": "error",
     "traceback": [
      "\u001b[1;31m---------------------------------------------------------------------------\u001b[0m",
      "\u001b[1;31mTypeError\u001b[0m                                 Traceback (most recent call last)",
      "Input \u001b[1;32mIn [49]\u001b[0m, in \u001b[0;36m<cell line: 1>\u001b[1;34m()\u001b[0m\n\u001b[1;32m----> 1\u001b[0m sets \u001b[38;5;241m+\u001b[39m\u001b[38;5;241m=\u001b[39m {\u001b[38;5;241m1\u001b[39m,\u001b[38;5;241m2\u001b[39m,\u001b[38;5;241m3\u001b[39m,\u001b[38;5;241m4\u001b[39m,\u001b[38;5;241m5\u001b[39m,\u001b[38;5;241m6\u001b[39m,\u001b[38;5;241m7\u001b[39m}\n",
      "\u001b[1;31mTypeError\u001b[0m: unsupported operand type(s) for +=: 'set' and 'set'"
     ]
    }
   ],
   "source": [
    "sets += {1,2,3,4,5,6,7}"
   ]
  },
  {
   "cell_type": "markdown",
   "id": "b25cc74b",
   "metadata": {},
   "source": [
    "## 4 - Dictionary"
   ]
  },
  {
   "cell_type": "code",
   "execution_count": 50,
   "id": "73a82a43",
   "metadata": {},
   "outputs": [],
   "source": [
    "# A pair of key-value\n",
    "flowers = {\n",
    "    \"rose\": \"red\",\n",
    "    \"sunflower\": \"blue\"\n",
    "}"
   ]
  },
  {
   "cell_type": "markdown",
   "id": "1b107015",
   "metadata": {},
   "source": [
    "**Does dictionary have index?**"
   ]
  },
  {
   "cell_type": "code",
   "execution_count": 51,
   "id": "3e437220",
   "metadata": {},
   "outputs": [
    {
     "ename": "KeyError",
     "evalue": "0",
     "output_type": "error",
     "traceback": [
      "\u001b[1;31m---------------------------------------------------------------------------\u001b[0m",
      "\u001b[1;31mKeyError\u001b[0m                                  Traceback (most recent call last)",
      "Input \u001b[1;32mIn [51]\u001b[0m, in \u001b[0;36m<cell line: 1>\u001b[1;34m()\u001b[0m\n\u001b[1;32m----> 1\u001b[0m \u001b[43mflowers\u001b[49m\u001b[43m[\u001b[49m\u001b[38;5;241;43m0\u001b[39;49m\u001b[43m]\u001b[49m\n",
      "\u001b[1;31mKeyError\u001b[0m: 0"
     ]
    }
   ],
   "source": [
    "flowers[0]"
   ]
  },
  {
   "cell_type": "markdown",
   "id": "9cd843b7",
   "metadata": {},
   "source": [
    "**Access dictionary keys and values:**"
   ]
  },
  {
   "cell_type": "code",
   "execution_count": 52,
   "id": "c1eba73a",
   "metadata": {},
   "outputs": [
    {
     "data": {
      "text/plain": [
       "'red'"
      ]
     },
     "execution_count": 52,
     "metadata": {},
     "output_type": "execute_result"
    }
   ],
   "source": [
    "# Access dictionary value through key\n",
    "flowers[\"rose\"]"
   ]
  },
  {
   "cell_type": "code",
   "execution_count": 53,
   "id": "ee3f6464",
   "metadata": {},
   "outputs": [
    {
     "data": {
      "text/plain": [
       "dict_keys(['rose', 'sunflower'])"
      ]
     },
     "execution_count": 53,
     "metadata": {},
     "output_type": "execute_result"
    }
   ],
   "source": [
    "# Return all the keys in the dictionary\n",
    "flowers.keys()"
   ]
  },
  {
   "cell_type": "code",
   "execution_count": 54,
   "id": "fe7bda84",
   "metadata": {},
   "outputs": [
    {
     "data": {
      "text/plain": [
       "dict_values(['red', 'blue'])"
      ]
     },
     "execution_count": 54,
     "metadata": {},
     "output_type": "execute_result"
    }
   ],
   "source": [
    "# Return all the values in the dictionary\n",
    "flowers.values()"
   ]
  },
  {
   "cell_type": "code",
   "execution_count": 55,
   "id": "a434a796",
   "metadata": {},
   "outputs": [
    {
     "data": {
      "text/plain": [
       "dict_items([('rose', 'red'), ('sunflower', 'blue')])"
      ]
     },
     "execution_count": 55,
     "metadata": {},
     "output_type": "execute_result"
    }
   ],
   "source": [
    "# Return key-value pairs as tuples\n",
    "flowers.items()"
   ]
  },
  {
   "cell_type": "markdown",
   "id": "b8d8c38b",
   "metadata": {},
   "source": [
    "**Modify the value of an existing key:**"
   ]
  },
  {
   "cell_type": "code",
   "execution_count": 56,
   "id": "a58a8515",
   "metadata": {},
   "outputs": [
    {
     "data": {
      "text/plain": [
       "{'rose': 'red', 'sunflower': 'yellow'}"
      ]
     },
     "execution_count": 56,
     "metadata": {},
     "output_type": "execute_result"
    }
   ],
   "source": [
    "flowers[\"sunflower\"] = \"yellow\"\n",
    "flowers"
   ]
  },
  {
   "cell_type": "markdown",
   "id": "ff5f406d",
   "metadata": {},
   "source": [
    "**Add a new key-value pair:**"
   ]
  },
  {
   "cell_type": "code",
   "execution_count": 57,
   "id": "4badcced",
   "metadata": {},
   "outputs": [
    {
     "data": {
      "text/plain": [
       "{'rose': 'red', 'sunflower': 'yellow', 'tulip': 'purple'}"
      ]
     },
     "execution_count": 57,
     "metadata": {},
     "output_type": "execute_result"
    }
   ],
   "source": [
    "flowers[\"tulip\"] = \"purple\"\n",
    "flowers"
   ]
  },
  {
   "cell_type": "code",
   "execution_count": 58,
   "id": "ff244126",
   "metadata": {},
   "outputs": [
    {
     "ename": "KeyError",
     "evalue": "'lily'",
     "output_type": "error",
     "traceback": [
      "\u001b[1;31m---------------------------------------------------------------------------\u001b[0m",
      "\u001b[1;31mKeyError\u001b[0m                                  Traceback (most recent call last)",
      "Input \u001b[1;32mIn [58]\u001b[0m, in \u001b[0;36m<cell line: 1>\u001b[1;34m()\u001b[0m\n\u001b[1;32m----> 1\u001b[0m \u001b[43mflowers\u001b[49m\u001b[43m[\u001b[49m\u001b[38;5;124;43m\"\u001b[39;49m\u001b[38;5;124;43mlily\u001b[39;49m\u001b[38;5;124;43m\"\u001b[39;49m\u001b[43m]\u001b[49m\n",
      "\u001b[1;31mKeyError\u001b[0m: 'lily'"
     ]
    }
   ],
   "source": [
    "flowers[\"lily\"]"
   ]
  },
  {
   "cell_type": "markdown",
   "id": "594d6d3a",
   "metadata": {},
   "source": [
    "### Defaultdict"
   ]
  },
  {
   "cell_type": "code",
   "execution_count": 59,
   "id": "b274b542",
   "metadata": {},
   "outputs": [],
   "source": [
    "# import defaultdict\n",
    "from collections import defaultdict"
   ]
  },
  {
   "cell_type": "code",
   "execution_count": 60,
   "id": "6598b2dc",
   "metadata": {},
   "outputs": [],
   "source": [
    "grocery = defaultdict(int)\n",
    "\n",
    "grocery[\"apple\"] = 5\n",
    "grocery[\"orange\"] = 3\n",
    "grocery[\"egg\"] = 10"
   ]
  },
  {
   "cell_type": "code",
   "execution_count": 61,
   "id": "19bc6f54",
   "metadata": {},
   "outputs": [
    {
     "data": {
      "text/plain": [
       "0"
      ]
     },
     "execution_count": 61,
     "metadata": {},
     "output_type": "execute_result"
    }
   ],
   "source": [
    "grocery[\"banana\"]"
   ]
  },
  {
   "cell_type": "code",
   "execution_count": 62,
   "id": "9a0b0a7c",
   "metadata": {},
   "outputs": [
    {
     "data": {
      "text/plain": [
       "defaultdict(int, {'apple': 5, 'orange': 3, 'egg': 10, 'banana': 7})"
      ]
     },
     "execution_count": 62,
     "metadata": {},
     "output_type": "execute_result"
    }
   ],
   "source": [
    "grocery[\"banana\"] = 7\n",
    "grocery"
   ]
  },
  {
   "cell_type": "markdown",
   "id": "20714252",
   "metadata": {},
   "source": [
    "**Sorting dictionary:**"
   ]
  },
  {
   "cell_type": "code",
   "execution_count": 63,
   "id": "492c6e13",
   "metadata": {},
   "outputs": [
    {
     "data": {
      "text/plain": [
       "{'apple': 5, 'banana': 7, 'egg': 10, 'orange': 3}"
      ]
     },
     "execution_count": 63,
     "metadata": {},
     "output_type": "execute_result"
    }
   ],
   "source": [
    "# Sort a dictionary by keys\n",
    "sorted_dict = dict(sorted(grocery.items()))\n",
    "sorted_dict"
   ]
  },
  {
   "cell_type": "code",
   "execution_count": 64,
   "id": "acf3d9f5",
   "metadata": {},
   "outputs": [
    {
     "data": {
      "text/plain": [
       "{'orange': 3, 'apple': 5, 'banana': 7, 'egg': 10}"
      ]
     },
     "execution_count": 64,
     "metadata": {},
     "output_type": "execute_result"
    }
   ],
   "source": [
    "# Sort a dictionary by values\n",
    "sorted_dict = dict(sorted(grocery.items(), key=lambda x:x[1]))\n",
    "sorted_dict"
   ]
  }
 ],
 "metadata": {
  "kernelspec": {
   "display_name": "Python 3 (ipykernel)",
   "language": "python",
   "name": "python3"
  },
  "language_info": {
   "codemirror_mode": {
    "name": "ipython",
    "version": 3
   },
   "file_extension": ".py",
   "mimetype": "text/x-python",
   "name": "python",
   "nbconvert_exporter": "python",
   "pygments_lexer": "ipython3",
   "version": "3.9.12"
  },
  "widgets": {
   "application/vnd.jupyter.widget-state+json": {
    "state": {},
    "version_major": 2,
    "version_minor": 0
   }
  }
 },
 "nbformat": 4,
 "nbformat_minor": 5
}
