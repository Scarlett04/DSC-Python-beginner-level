{
  "cells": [
    {
      "cell_type": "markdown",
      "metadata": {
        "id": "view-in-github",
        "colab_type": "text"
      },
      "source": [
        "<a href=\"https://colab.research.google.com/github/Scarlett04/DSC-Python-crash-course/blob/main/Python%20Crash%20Course%201%20(Full%20version).ipynb\" target=\"_parent\"><img src=\"https://colab.research.google.com/assets/colab-badge.svg\" alt=\"Open In Colab\"/></a>"
      ]
    },
    {
      "cell_type": "markdown",
      "id": "0b37d2c4",
      "metadata": {
        "id": "0b37d2c4"
      },
      "source": [
        "# Python Crash Course - Day 1\n",
        "\n",
        "\n",
        "Welcome to the Python Crash Course Workshop!\n",
        "\n",
        "Python is considered to be one of the most widely used programming languages in the field of data science since it offers a wide variety of libraries and tools to help us manipulate, analyze, and visualize data. \n",
        "\n",
        "In this section, we aim to introduce you to the fundamentals of Python. Today, we will cover these following contents:\n",
        "   1. **Data types**: Integer, Float, String, Boolean\n",
        "   2. **Variables**\n",
        "   3. **Arithmetic Operators**\n",
        "   4. **String**: String format, F-String\n",
        "   5. **Collections**: List, Dictionary, Tuple, Set"
      ]
    },
    {
      "cell_type": "markdown",
      "id": "00c70541",
      "metadata": {
        "id": "00c70541"
      },
      "source": [
        "# I. First program"
      ]
    },
    {
      "cell_type": "markdown",
      "id": "043ba647",
      "metadata": {
        "id": "043ba647"
      },
      "source": [
        "The **print()** function allows the program display a message on the screen.\n",
        "\n",
        "You can use comments to describe what you are trying to do with the program. The code in the comment is ignored when execute the program.\n",
        "* Windows: Ctrl + /\n",
        "* Mac OS: Command + /"
      ]
    },
    {
      "cell_type": "code",
      "execution_count": null,
      "id": "68b793c4",
      "metadata": {
        "id": "68b793c4",
        "outputId": "cd41b6a5-8cdb-49aa-87c3-6793d01f48a7",
        "colab": {
          "base_uri": "https://localhost:8080/"
        }
      },
      "outputs": [
        {
          "output_type": "stream",
          "name": "stdout",
          "text": [
            "Hello, World!\n"
          ]
        }
      ],
      "source": [
        "# My Hello World program\n",
        "print(\"Hello, World!\")"
      ]
    },
    {
      "cell_type": "markdown",
      "id": "43dca7fa",
      "metadata": {
        "id": "43dca7fa"
      },
      "source": [
        "# II. Data types"
      ]
    },
    {
      "cell_type": "markdown",
      "id": "1df88a77",
      "metadata": {
        "id": "1df88a77"
      },
      "source": [
        "### Numbers\n",
        "1. Integer: integer number\n",
        "2. Float: decimal number"
      ]
    },
    {
      "cell_type": "code",
      "execution_count": null,
      "id": "cc4dddc5",
      "metadata": {
        "id": "cc4dddc5",
        "outputId": "21c9a11d-a22f-4d7f-e272-c68052fa5888",
        "colab": {
          "base_uri": "https://localhost:8080/"
        }
      },
      "outputs": [
        {
          "output_type": "execute_result",
          "data": {
            "text/plain": [
              "27"
            ]
          },
          "metadata": {},
          "execution_count": 2
        }
      ],
      "source": [
        "# Plus\n",
        "17 + 10"
      ]
    },
    {
      "cell_type": "code",
      "execution_count": null,
      "id": "ef85dde6",
      "metadata": {
        "id": "ef85dde6",
        "outputId": "a010e83e-5367-4016-c194-63de9319797c",
        "colab": {
          "base_uri": "https://localhost:8080/"
        }
      },
      "outputs": [
        {
          "output_type": "execute_result",
          "data": {
            "text/plain": [
              "-70"
            ]
          },
          "metadata": {},
          "execution_count": 3
        }
      ],
      "source": [
        "# Minus\n",
        "30 - 100"
      ]
    },
    {
      "cell_type": "code",
      "execution_count": null,
      "id": "a4f15354",
      "metadata": {
        "id": "a4f15354",
        "outputId": "1d439fde-a350-437b-a062-59771f9ac4e0",
        "colab": {
          "base_uri": "https://localhost:8080/"
        }
      },
      "outputs": [
        {
          "output_type": "execute_result",
          "data": {
            "text/plain": [
              "27"
            ]
          },
          "metadata": {},
          "execution_count": 4
        }
      ],
      "source": [
        "# Multiplication\n",
        "9 * 3"
      ]
    },
    {
      "cell_type": "code",
      "execution_count": null,
      "id": "bdcbb144",
      "metadata": {
        "id": "bdcbb144",
        "outputId": "e522916e-8922-4919-d908-356e6c11556a",
        "colab": {
          "base_uri": "https://localhost:8080/"
        }
      },
      "outputs": [
        {
          "output_type": "execute_result",
          "data": {
            "text/plain": [
              "27"
            ]
          },
          "metadata": {},
          "execution_count": 5
        }
      ],
      "source": [
        "# Exponent\n",
        "3 ** 3"
      ]
    },
    {
      "cell_type": "code",
      "execution_count": null,
      "id": "71c4e341",
      "metadata": {
        "id": "71c4e341",
        "outputId": "72bfba07-d097-41c9-9a5a-4cdc90efa174",
        "colab": {
          "base_uri": "https://localhost:8080/"
        }
      },
      "outputs": [
        {
          "output_type": "execute_result",
          "data": {
            "text/plain": [
              "9.5"
            ]
          },
          "metadata": {},
          "execution_count": 6
        }
      ],
      "source": [
        "# Division: Return the value of the the division\n",
        "57 / 6"
      ]
    },
    {
      "cell_type": "code",
      "execution_count": null,
      "id": "4b3c1936",
      "metadata": {
        "id": "4b3c1936",
        "outputId": "b350227a-9d31-4071-da3c-e889199a05c4",
        "colab": {
          "base_uri": "https://localhost:8080/"
        }
      },
      "outputs": [
        {
          "output_type": "execute_result",
          "data": {
            "text/plain": [
              "3"
            ]
          },
          "metadata": {},
          "execution_count": 7
        }
      ],
      "source": [
        "# Modulo: Return the remainder of the division\n",
        "57 % 6"
      ]
    },
    {
      "cell_type": "code",
      "execution_count": null,
      "id": "020cd50d",
      "metadata": {
        "id": "020cd50d",
        "outputId": "da8085f2-7a04-4642-842e-4fb93a1b0f9b",
        "colab": {
          "base_uri": "https://localhost:8080/"
        }
      },
      "outputs": [
        {
          "output_type": "execute_result",
          "data": {
            "text/plain": [
              "370"
            ]
          },
          "metadata": {},
          "execution_count": 8
        }
      ],
      "source": [
        "(82 - 8) * (5)"
      ]
    },
    {
      "cell_type": "markdown",
      "id": "9f862957",
      "metadata": {
        "id": "9f862957"
      },
      "source": [
        "### String \n",
        "String is a piece of text. In Python, you can use either single quotes ('') or double quotes (\"\"). "
      ]
    },
    {
      "cell_type": "code",
      "execution_count": null,
      "id": "0ee77e2d",
      "metadata": {
        "id": "0ee77e2d",
        "outputId": "db16598f-45e2-455c-f5e2-f9ff44ed7d59",
        "colab": {
          "base_uri": "https://localhost:8080/",
          "height": 36
        }
      },
      "outputs": [
        {
          "output_type": "execute_result",
          "data": {
            "text/plain": [
              "'This is a string'"
            ],
            "application/vnd.google.colaboratory.intrinsic+json": {
              "type": "string"
            }
          },
          "metadata": {},
          "execution_count": 9
        }
      ],
      "source": [
        "\"This is a string\""
      ]
    },
    {
      "cell_type": "code",
      "execution_count": null,
      "id": "44de0256",
      "metadata": {
        "id": "44de0256",
        "outputId": "29ad2f84-2436-46e9-d7f5-cc925d9d497f",
        "colab": {
          "base_uri": "https://localhost:8080/",
          "height": 36
        }
      },
      "outputs": [
        {
          "output_type": "execute_result",
          "data": {
            "text/plain": [
              "'Welcome to Data Science Club'"
            ],
            "application/vnd.google.colaboratory.intrinsic+json": {
              "type": "string"
            }
          },
          "metadata": {},
          "execution_count": 10
        }
      ],
      "source": [
        "# Combine string\n",
        "\"Welcome to \" + \"Data Science Club\""
      ]
    },
    {
      "cell_type": "code",
      "execution_count": null,
      "id": "83dc0ee2",
      "metadata": {
        "id": "83dc0ee2",
        "outputId": "bf1d25e5-0159-40fb-be70-d30129e6e843",
        "colab": {
          "base_uri": "https://localhost:8080/",
          "height": 36
        }
      },
      "outputs": [
        {
          "output_type": "execute_result",
          "data": {
            "text/plain": [
              "'Data Science Data Science Data Science '"
            ],
            "application/vnd.google.colaboratory.intrinsic+json": {
              "type": "string"
            }
          },
          "metadata": {},
          "execution_count": 11
        }
      ],
      "source": [
        "# Duplicate string\n",
        "'Data Science ' * 3"
      ]
    },
    {
      "cell_type": "markdown",
      "id": "207eca1d",
      "metadata": {
        "id": "207eca1d"
      },
      "source": [
        "### Boolean \n",
        "Boolean is a True/False value."
      ]
    },
    {
      "cell_type": "code",
      "execution_count": null,
      "id": "46646af7",
      "metadata": {
        "id": "46646af7",
        "outputId": "860112fe-d05b-4d46-b6d0-c09fe384abc2",
        "colab": {
          "base_uri": "https://localhost:8080/"
        }
      },
      "outputs": [
        {
          "output_type": "execute_result",
          "data": {
            "text/plain": [
              "True"
            ]
          },
          "metadata": {},
          "execution_count": 12
        }
      ],
      "source": [
        "True"
      ]
    },
    {
      "cell_type": "code",
      "execution_count": null,
      "id": "ee00960a",
      "metadata": {
        "id": "ee00960a",
        "outputId": "0a24450d-89ec-47a8-c52b-248735ece5d5",
        "colab": {
          "base_uri": "https://localhost:8080/"
        }
      },
      "outputs": [
        {
          "output_type": "execute_result",
          "data": {
            "text/plain": [
              "False"
            ]
          },
          "metadata": {},
          "execution_count": 13
        }
      ],
      "source": [
        "False"
      ]
    },
    {
      "cell_type": "markdown",
      "id": "55ab6af2",
      "metadata": {
        "id": "55ab6af2"
      },
      "source": [
        "### Type conversion\n",
        "Convert one type to another:\n",
        "* integer: `int()`\n",
        "* float: `float()`\n",
        "* string: `str()`\n",
        "* boolean: `bool()`"
      ]
    },
    {
      "cell_type": "code",
      "execution_count": null,
      "id": "ea3bcbb2",
      "metadata": {
        "id": "ea3bcbb2",
        "outputId": "43c43545-4b28-4bd5-f0fb-c5373dc03022",
        "colab": {
          "base_uri": "https://localhost:8080/"
        }
      },
      "outputs": [
        {
          "output_type": "execute_result",
          "data": {
            "text/plain": [
              "10.0"
            ]
          },
          "metadata": {},
          "execution_count": 5
        }
      ],
      "source": [
        "float(10) "
      ]
    },
    {
      "cell_type": "code",
      "execution_count": null,
      "id": "3169e8ef",
      "metadata": {
        "id": "3169e8ef",
        "outputId": "1dd61b39-91e8-4175-968f-251f003a916d",
        "colab": {
          "base_uri": "https://localhost:8080/"
        }
      },
      "outputs": [
        {
          "output_type": "execute_result",
          "data": {
            "text/plain": [
              "24"
            ]
          },
          "metadata": {},
          "execution_count": 15
        }
      ],
      "source": [
        "int(\"24\")"
      ]
    },
    {
      "cell_type": "markdown",
      "id": "80242d4d",
      "metadata": {
        "id": "80242d4d"
      },
      "source": [
        "You can use **type()** to check the data type of a variable or an object."
      ]
    },
    {
      "cell_type": "code",
      "execution_count": null,
      "id": "8f7d8c29",
      "metadata": {
        "id": "8f7d8c29",
        "outputId": "7d69437f-b11a-4e11-c1ac-9786b0870aed",
        "colab": {
          "base_uri": "https://localhost:8080/"
        }
      },
      "outputs": [
        {
          "output_type": "execute_result",
          "data": {
            "text/plain": [
              "bool"
            ]
          },
          "metadata": {},
          "execution_count": 16
        }
      ],
      "source": [
        "type(True)"
      ]
    },
    {
      "cell_type": "markdown",
      "id": "0b2d808e",
      "metadata": {
        "id": "0b2d808e"
      },
      "source": [
        "# III. Variables\n",
        "Variable is a container to store a specific value. Declaring a variable can make your code more readable and easier to maintain.\n",
        "\n",
        "To define a variable in Python, you can use the following syntax:"
      ]
    },
    {
      "cell_type": "code",
      "execution_count": null,
      "id": "d36b8ee4",
      "metadata": {
        "id": "d36b8ee4"
      },
      "outputs": [],
      "source": [
        "x = 100"
      ]
    },
    {
      "cell_type": "markdown",
      "id": "36129c4b",
      "metadata": {
        "id": "36129c4b"
      },
      "source": [
        "You can also define multiple variables on a single line, separated by commas."
      ]
    },
    {
      "cell_type": "code",
      "execution_count": null,
      "id": "b0eb7376",
      "metadata": {
        "id": "b0eb7376"
      },
      "outputs": [],
      "source": [
        "a, b, c = \"Data Science\", 17, True"
      ]
    },
    {
      "cell_type": "markdown",
      "id": "334593de",
      "metadata": {
        "id": "334593de"
      },
      "source": [
        "### Operators using variables\n",
        "\n",
        "Use arithmetic operators with variables to perform arithmetic operations on their values."
      ]
    },
    {
      "cell_type": "code",
      "execution_count": null,
      "id": "2e103e46",
      "metadata": {
        "id": "2e103e46"
      },
      "outputs": [],
      "source": [
        "x = x + b"
      ]
    },
    {
      "cell_type": "code",
      "execution_count": null,
      "id": "361786f3",
      "metadata": {
        "id": "361786f3",
        "outputId": "9be86a16-96da-42cb-da5a-35771e93e48e",
        "colab": {
          "base_uri": "https://localhost:8080/"
        }
      },
      "outputs": [
        {
          "output_type": "execute_result",
          "data": {
            "text/plain": [
              "1989"
            ]
          },
          "metadata": {},
          "execution_count": 20
        }
      ],
      "source": [
        "x *= b\n",
        "x"
      ]
    },
    {
      "cell_type": "markdown",
      "id": "f9b634f1",
      "metadata": {
        "id": "f9b634f1"
      },
      "source": [
        "### How to name a variable in Python\n",
        "* Variable names should be in lowercase with words separated by underscores.\n",
        "* A variable cannot start with a number or a special character.\n",
        "* Avoid using Python keywords (such as print, min, max, etc.).\n",
        "* Use descriptive and meaningful names for variables and functions."
      ]
    },
    {
      "cell_type": "code",
      "execution_count": null,
      "id": "cb8e77ed",
      "metadata": {
        "id": "cb8e77ed"
      },
      "outputs": [],
      "source": [
        "item = \"laptop\"\n",
        "product_cost = 200"
      ]
    },
    {
      "cell_type": "code",
      "execution_count": null,
      "id": "a299f2a5",
      "metadata": {
        "id": "a299f2a5",
        "outputId": "397795d0-76ac-49f4-89bc-dc28624a82bc",
        "colab": {
          "base_uri": "https://localhost:8080/"
        }
      },
      "outputs": [
        {
          "output_type": "stream",
          "name": "stdout",
          "text": [
            "The laptop costs $200\n"
          ]
        }
      ],
      "source": [
        "print(\"The \" + item + \" costs $\" + str(product_cost))"
      ]
    },
    {
      "cell_type": "markdown",
      "id": "c0713d98",
      "metadata": {
        "id": "c0713d98"
      },
      "source": [
        "### String format"
      ]
    },
    {
      "cell_type": "code",
      "execution_count": null,
      "id": "18bfe13c",
      "metadata": {
        "id": "18bfe13c",
        "outputId": "98c54e9e-ca01-4098-be1a-a55971d95468",
        "colab": {
          "base_uri": "https://localhost:8080/"
        }
      },
      "outputs": [
        {
          "output_type": "stream",
          "name": "stdout",
          "text": [
            "The laptop costs $200\n",
            "The laptop costs $350\n"
          ]
        }
      ],
      "source": [
        "print(\"The {} costs ${}\".format(item, product_cost))\n",
        "print(\"The {one} costs ${two}\".format(one=item, two=product_cost+150))"
      ]
    },
    {
      "cell_type": "markdown",
      "id": "91c7193f",
      "metadata": {
        "id": "91c7193f"
      },
      "source": [
        "### F string"
      ]
    },
    {
      "cell_type": "code",
      "execution_count": null,
      "id": "cdfe665e",
      "metadata": {
        "id": "cdfe665e",
        "outputId": "a0ed939d-9f98-4413-8a1f-7467c21fc637",
        "colab": {
          "base_uri": "https://localhost:8080/"
        }
      },
      "outputs": [
        {
          "output_type": "stream",
          "name": "stdout",
          "text": [
            "The laptop costs $600.\n"
          ]
        }
      ],
      "source": [
        "print(f\"The {item} costs ${product_cost*3}.\")"
      ]
    },
    {
      "cell_type": "markdown",
      "id": "0d48acbc",
      "metadata": {
        "id": "0d48acbc"
      },
      "source": [
        "# IV. Collection\n",
        "\n",
        "Collections are containers to store other objects. In this workshop, we will learn about 4 types of collections in Python:\n",
        "1. List: ordered, mutable collection of elements.\n",
        "2. Tuple: ordered, immutable collection of elements.\n",
        "3. Set: unordered, mutable collection of **unique** elements.\n",
        "4. Dictionary: unordered, mutable collection of key-value pairs."
      ]
    },
    {
      "cell_type": "markdown",
      "id": "f1ef6a63",
      "metadata": {
        "id": "f1ef6a63"
      },
      "source": [
        "## 1 - List"
      ]
    },
    {
      "cell_type": "code",
      "execution_count": null,
      "id": "ffcab25b",
      "metadata": {
        "id": "ffcab25b"
      },
      "outputs": [],
      "source": [
        "flowers = [\"rose\",\"daisy\",\"jasmine\"]\n",
        "mixed = [\"Data Science Club\", 17, True, [2, 4, 6]]"
      ]
    },
    {
      "cell_type": "markdown",
      "id": "890556cb",
      "metadata": {
        "id": "890556cb"
      },
      "source": [
        "### List indexing\n",
        "\n",
        "The index of a list refers to the position of an element within the list.\n",
        "* To access the element from left to right, we count from 0.\n",
        "* To access the element from right to left, we count from -1."
      ]
    },
    {
      "cell_type": "code",
      "execution_count": null,
      "id": "bcd0eb2b",
      "metadata": {
        "id": "bcd0eb2b",
        "outputId": "df59f024-a325-4b31-a94f-85474f4dde0b",
        "colab": {
          "base_uri": "https://localhost:8080/",
          "height": 36
        }
      },
      "outputs": [
        {
          "output_type": "execute_result",
          "data": {
            "text/plain": [
              "'rose'"
            ],
            "application/vnd.google.colaboratory.intrinsic+json": {
              "type": "string"
            }
          },
          "metadata": {},
          "execution_count": 26
        }
      ],
      "source": [
        "flowers[0]"
      ]
    },
    {
      "cell_type": "code",
      "execution_count": null,
      "id": "4b13c183",
      "metadata": {
        "id": "4b13c183",
        "outputId": "87e69ec3-3c7c-49ef-e7ff-32d3a85e1371",
        "colab": {
          "base_uri": "https://localhost:8080/"
        }
      },
      "outputs": [
        {
          "output_type": "execute_result",
          "data": {
            "text/plain": [
              "['Data Science Club', 17, False, [2, 4, 6]]"
            ]
          },
          "metadata": {},
          "execution_count": 27
        }
      ],
      "source": [
        "# Change the value of an item in a list\n",
        "mixed[-2] = False\n",
        "mixed"
      ]
    },
    {
      "cell_type": "markdown",
      "id": "6dbf6a84",
      "metadata": {
        "id": "6dbf6a84"
      },
      "source": [
        "Nested indexing allows us to access an element within a sublist:"
      ]
    },
    {
      "cell_type": "code",
      "execution_count": null,
      "id": "65698183",
      "metadata": {
        "id": "65698183",
        "outputId": "c336711f-2eb3-4f08-a83d-9b6d71d4b43a",
        "colab": {
          "base_uri": "https://localhost:8080/"
        }
      },
      "outputs": [
        {
          "output_type": "execute_result",
          "data": {
            "text/plain": [
              "6"
            ]
          },
          "metadata": {},
          "execution_count": 28
        }
      ],
      "source": [
        "mixed[3][2]"
      ]
    },
    {
      "cell_type": "markdown",
      "id": "5076e2ff",
      "metadata": {
        "id": "5076e2ff"
      },
      "source": [
        "### List slicing\n",
        "\n",
        "A slice of a list refers to a subset the list. Syntax: `lst[start,end,step]`"
      ]
    },
    {
      "cell_type": "code",
      "execution_count": null,
      "id": "9ccb53fe",
      "metadata": {
        "id": "9ccb53fe"
      },
      "outputs": [],
      "source": [
        "lst = [0,1,2,3,4,5,6,7,8,9,10,10]"
      ]
    },
    {
      "cell_type": "code",
      "execution_count": null,
      "id": "040e92f3",
      "metadata": {
        "id": "040e92f3",
        "outputId": "ecffb0e7-3fe0-47e4-f4f6-c0c619633e97",
        "colab": {
          "base_uri": "https://localhost:8080/"
        }
      },
      "outputs": [
        {
          "output_type": "execute_result",
          "data": {
            "text/plain": [
              "[1, 2, 3, 4]"
            ]
          },
          "metadata": {},
          "execution_count": 30
        }
      ],
      "source": [
        "lst[1:5]"
      ]
    },
    {
      "cell_type": "code",
      "execution_count": null,
      "id": "3b545f62",
      "metadata": {
        "id": "3b545f62",
        "outputId": "058c05ad-a237-440e-d5e4-2c632be93814",
        "colab": {
          "base_uri": "https://localhost:8080/"
        }
      },
      "outputs": [
        {
          "output_type": "execute_result",
          "data": {
            "text/plain": [
              "[8, 9, 10, 10]"
            ]
          },
          "metadata": {},
          "execution_count": 31
        }
      ],
      "source": [
        "lst[-4:]"
      ]
    },
    {
      "cell_type": "code",
      "execution_count": null,
      "id": "d67fa250",
      "metadata": {
        "id": "d67fa250",
        "outputId": "586e8b45-a67f-44ae-8335-27b804c34efb",
        "colab": {
          "base_uri": "https://localhost:8080/"
        }
      },
      "outputs": [
        {
          "output_type": "execute_result",
          "data": {
            "text/plain": [
              "[0, 2, 4, 6, 8, 10]"
            ]
          },
          "metadata": {},
          "execution_count": 32
        }
      ],
      "source": [
        "lst[::2]"
      ]
    },
    {
      "cell_type": "markdown",
      "id": "2bef6a0b",
      "metadata": {
        "id": "2bef6a0b"
      },
      "source": [
        "### Functions and operations with list"
      ]
    },
    {
      "cell_type": "markdown",
      "id": "0d740a72",
      "metadata": {
        "id": "0d740a72"
      },
      "source": [
        "**Add a new element to the list:**"
      ]
    },
    {
      "cell_type": "code",
      "execution_count": null,
      "id": "85c29330",
      "metadata": {
        "id": "85c29330",
        "outputId": "81736d5c-0414-409d-d0c9-3f3ffd39988d",
        "colab": {
          "base_uri": "https://localhost:8080/"
        }
      },
      "outputs": [
        {
          "output_type": "execute_result",
          "data": {
            "text/plain": [
              "[0, 1, 2, 3, 4, 5, 6, 7, 8, 9, 10, 10, [11, 12, 13, 14, 15]]"
            ]
          },
          "metadata": {},
          "execution_count": 33
        }
      ],
      "source": [
        "# Add an element to the end of a list\n",
        "lst.append([11,12,13,14,15])\n",
        "lst"
      ]
    },
    {
      "cell_type": "markdown",
      "id": "b570abfa",
      "metadata": {
        "id": "b570abfa"
      },
      "source": [
        "**Remove an element from the list:**"
      ]
    },
    {
      "cell_type": "code",
      "execution_count": null,
      "id": "2c14c864",
      "metadata": {
        "id": "2c14c864",
        "outputId": "43b67a65-fdd1-4d1d-eb6e-2b9d6a594ec9",
        "colab": {
          "base_uri": "https://localhost:8080/"
        }
      },
      "outputs": [
        {
          "output_type": "execute_result",
          "data": {
            "text/plain": [
              "[0, 1, 2, 3, 4, 5, 6, 7, 8, 9, 10, [11, 12, 13, 14, 15]]"
            ]
          },
          "metadata": {},
          "execution_count": 34
        }
      ],
      "source": [
        "# Remove the first element with the specific value\n",
        "lst.remove(10)\n",
        "lst"
      ]
    },
    {
      "cell_type": "code",
      "execution_count": null,
      "id": "06227216",
      "metadata": {
        "id": "06227216",
        "outputId": "889e21ad-c765-4a5d-bc68-32d31f6b7d23",
        "colab": {
          "base_uri": "https://localhost:8080/"
        }
      },
      "outputs": [
        {
          "output_type": "execute_result",
          "data": {
            "text/plain": [
              "[0, 1, 2, 3, 4, 6, 7, 8, 9, 10, [11, 12, 13, 14, 15]]"
            ]
          },
          "metadata": {},
          "execution_count": 35
        }
      ],
      "source": [
        "# Remove the element of the specific index\n",
        "lst.pop(5)\n",
        "lst"
      ]
    },
    {
      "cell_type": "markdown",
      "id": "5bf162bd",
      "metadata": {
        "id": "5bf162bd"
      },
      "source": [
        "**Using arithmetic operators with list:**"
      ]
    },
    {
      "cell_type": "code",
      "execution_count": null,
      "id": "ece1ed53",
      "metadata": {
        "id": "ece1ed53"
      },
      "outputs": [],
      "source": [
        "lst = [0,1,2,3,4,5]"
      ]
    },
    {
      "cell_type": "code",
      "execution_count": null,
      "id": "b3c0b3bb",
      "metadata": {
        "id": "b3c0b3bb",
        "outputId": "9ff6d094-717d-46aa-f1d6-fae5347a0bfe",
        "colab": {
          "base_uri": "https://localhost:8080/"
        }
      },
      "outputs": [
        {
          "output_type": "execute_result",
          "data": {
            "text/plain": [
              "[0, 1, 2, 3, 4, 5, 5, 4, 3, 2, 1, 0]"
            ]
          },
          "metadata": {},
          "execution_count": 37
        }
      ],
      "source": [
        "# Combine list\n",
        "lst + lst[::-1]"
      ]
    },
    {
      "cell_type": "code",
      "execution_count": null,
      "id": "d7f05a79",
      "metadata": {
        "id": "d7f05a79",
        "outputId": "2b95e7a8-063e-45a2-d17d-24aec2376b19",
        "colab": {
          "base_uri": "https://localhost:8080/"
        }
      },
      "outputs": [
        {
          "output_type": "execute_result",
          "data": {
            "text/plain": [
              "[0, 1, 2, 3, 4, 5, 0, 1, 2, 3, 4, 5, 0, 1, 2, 3, 4, 5]"
            ]
          },
          "metadata": {},
          "execution_count": 38
        }
      ],
      "source": [
        "# Duplicate list\n",
        "lst * 3"
      ]
    },
    {
      "cell_type": "markdown",
      "id": "2a6b35c2",
      "metadata": {
        "id": "2a6b35c2"
      },
      "source": [
        "## 2 - Tuple"
      ]
    },
    {
      "cell_type": "code",
      "execution_count": null,
      "id": "3e8cbf97",
      "metadata": {
        "id": "3e8cbf97"
      },
      "outputs": [],
      "source": [
        "tp = (\"Data\",\"Science\",\"Club\")"
      ]
    },
    {
      "cell_type": "markdown",
      "id": "dae51c02",
      "metadata": {
        "id": "dae51c02"
      },
      "source": [
        "**Tuple indexing**"
      ]
    },
    {
      "cell_type": "code",
      "execution_count": null,
      "id": "25d9ea54",
      "metadata": {
        "id": "25d9ea54",
        "outputId": "3f81f079-3fe9-49dc-b5a4-f8e6312cbeab",
        "colab": {
          "base_uri": "https://localhost:8080/",
          "height": 36
        }
      },
      "outputs": [
        {
          "output_type": "execute_result",
          "data": {
            "text/plain": [
              "'Club'"
            ],
            "application/vnd.google.colaboratory.intrinsic+json": {
              "type": "string"
            }
          },
          "metadata": {},
          "execution_count": 40
        }
      ],
      "source": [
        "tp[-1]"
      ]
    },
    {
      "cell_type": "code",
      "execution_count": null,
      "id": "148e6767",
      "metadata": {
        "id": "148e6767",
        "outputId": "3582936b-d0ce-4b1b-9426-5679add21dd5",
        "colab": {
          "base_uri": "https://localhost:8080/"
        }
      },
      "outputs": [
        {
          "output_type": "execute_result",
          "data": {
            "text/plain": [
              "('Data', 'Science')"
            ]
          },
          "metadata": {},
          "execution_count": 41
        }
      ],
      "source": [
        "tp[:2]"
      ]
    },
    {
      "cell_type": "code",
      "execution_count": null,
      "id": "ba5ad9d1",
      "metadata": {
        "id": "ba5ad9d1",
        "outputId": "bf1a7b7e-fce5-48d1-bb67-5dd5ad6a17f5",
        "colab": {
          "base_uri": "https://localhost:8080/",
          "height": 182
        }
      },
      "outputs": [
        {
          "output_type": "error",
          "ename": "TypeError",
          "evalue": "ignored",
          "traceback": [
            "\u001b[0;31m---------------------------------------------------------------------------\u001b[0m",
            "\u001b[0;31mTypeError\u001b[0m                                 Traceback (most recent call last)",
            "\u001b[0;32m<ipython-input-42-3c2a26662fc7>\u001b[0m in \u001b[0;36m<module>\u001b[0;34m\u001b[0m\n\u001b[1;32m      1\u001b[0m \u001b[0;31m# Change the value of an item in a tuple\u001b[0m\u001b[0;34m\u001b[0m\u001b[0;34m\u001b[0m\u001b[0;34m\u001b[0m\u001b[0m\n\u001b[0;32m----> 2\u001b[0;31m \u001b[0mtp\u001b[0m\u001b[0;34m[\u001b[0m\u001b[0;36m0\u001b[0m\u001b[0;34m]\u001b[0m \u001b[0;34m=\u001b[0m \u001b[0;34m\"Computer\"\u001b[0m\u001b[0;34m\u001b[0m\u001b[0;34m\u001b[0m\u001b[0m\n\u001b[0m",
            "\u001b[0;31mTypeError\u001b[0m: 'tuple' object does not support item assignment"
          ]
        }
      ],
      "source": [
        "# Change the value of an item in a tuple\n",
        "tp[0] = \"Computer\""
      ]
    },
    {
      "cell_type": "code",
      "execution_count": null,
      "id": "0d3b8fff",
      "metadata": {
        "id": "0d3b8fff",
        "colab": {
          "base_uri": "https://localhost:8080/"
        },
        "outputId": "90959e44-acbd-4a8a-ab7f-eda51094f7ef"
      },
      "outputs": [
        {
          "output_type": "execute_result",
          "data": {
            "text/plain": [
              "('Data',\n",
              " 'Science',\n",
              " 'Club',\n",
              " 'Data',\n",
              " 'Science',\n",
              " 'Club',\n",
              " 'Data',\n",
              " 'Science',\n",
              " 'Club')"
            ]
          },
          "metadata": {},
          "execution_count": 44
        }
      ],
      "source": [
        "# Combine and duplicate tuple\n",
        "tp * 3"
      ]
    },
    {
      "cell_type": "code",
      "execution_count": null,
      "id": "d496c9d8",
      "metadata": {
        "id": "d496c9d8"
      },
      "outputs": [],
      "source": [
        "# Application\n",
        "config = (\n",
        "    ('server_address', '127.0.0.1'),\n",
        "    ('server_port', 8080),\n",
        "    ('max_connections', 100),\n",
        "    ('debug', False)\n",
        ")"
      ]
    },
    {
      "cell_type": "markdown",
      "id": "9661945d",
      "metadata": {
        "id": "9661945d"
      },
      "source": [
        "## 3 - Set"
      ]
    },
    {
      "cell_type": "code",
      "execution_count": null,
      "id": "f6aa06b2",
      "metadata": {
        "id": "f6aa06b2",
        "colab": {
          "base_uri": "https://localhost:8080/"
        },
        "outputId": "ef475042-fb7c-411f-f286-4fabaf6be1cd"
      },
      "outputs": [
        {
          "output_type": "execute_result",
          "data": {
            "text/plain": [
              "{0, 1, 2, 3}"
            ]
          },
          "metadata": {},
          "execution_count": 46
        }
      ],
      "source": [
        "sets = {0,0,0,1,2,3,3,2,2}\n",
        "sets"
      ]
    },
    {
      "cell_type": "markdown",
      "id": "ad75426f",
      "metadata": {
        "id": "ad75426f"
      },
      "source": [
        "**Set indexing**"
      ]
    },
    {
      "cell_type": "code",
      "execution_count": null,
      "id": "d2cf8598",
      "metadata": {
        "id": "d2cf8598",
        "colab": {
          "base_uri": "https://localhost:8080/",
          "height": 165
        },
        "outputId": "19a9f2b3-a6c1-4519-cd64-8ed1a8d2bc2a"
      },
      "outputs": [
        {
          "output_type": "error",
          "ename": "TypeError",
          "evalue": "ignored",
          "traceback": [
            "\u001b[0;31m---------------------------------------------------------------------------\u001b[0m",
            "\u001b[0;31mTypeError\u001b[0m                                 Traceback (most recent call last)",
            "\u001b[0;32m<ipython-input-47-b15e97f0301b>\u001b[0m in \u001b[0;36m<module>\u001b[0;34m\u001b[0m\n\u001b[0;32m----> 1\u001b[0;31m \u001b[0msets\u001b[0m\u001b[0;34m[\u001b[0m\u001b[0;36m1\u001b[0m\u001b[0;34m]\u001b[0m\u001b[0;34m\u001b[0m\u001b[0;34m\u001b[0m\u001b[0m\n\u001b[0m",
            "\u001b[0;31mTypeError\u001b[0m: 'set' object is not subscriptable"
          ]
        }
      ],
      "source": [
        "sets[1]"
      ]
    },
    {
      "cell_type": "code",
      "execution_count": null,
      "id": "4ebd72bf",
      "metadata": {
        "id": "4ebd72bf",
        "colab": {
          "base_uri": "https://localhost:8080/"
        },
        "outputId": "db62fef0-bf16-4e81-9019-633e2a0e404c"
      },
      "outputs": [
        {
          "output_type": "execute_result",
          "data": {
            "text/plain": [
              "{0, 1, 2, 3, 4}"
            ]
          },
          "metadata": {},
          "execution_count": 48
        }
      ],
      "source": [
        "# Add an element to a set\n",
        "sets.add(4)\n",
        "sets"
      ]
    },
    {
      "cell_type": "code",
      "execution_count": null,
      "id": "ec5e34d8",
      "metadata": {
        "id": "ec5e34d8",
        "colab": {
          "base_uri": "https://localhost:8080/"
        },
        "outputId": "85577dd4-8194-4842-ef26-c71e5e97900e"
      },
      "outputs": [
        {
          "output_type": "execute_result",
          "data": {
            "text/plain": [
              "{0, 1, 3, 4}"
            ]
          },
          "metadata": {},
          "execution_count": 49
        }
      ],
      "source": [
        "# Remove an element from a set\n",
        "sets.remove(2)\n",
        "sets"
      ]
    },
    {
      "cell_type": "markdown",
      "id": "989ffde7",
      "metadata": {
        "id": "989ffde7"
      },
      "source": [
        "Set is a collection of unique values and cannot be combined nor duplicated."
      ]
    },
    {
      "cell_type": "code",
      "execution_count": null,
      "id": "ef0d5117",
      "metadata": {
        "id": "ef0d5117",
        "colab": {
          "base_uri": "https://localhost:8080/",
          "height": 165
        },
        "outputId": "1cfc48dd-7d22-411b-dfca-00cdf83e00c9"
      },
      "outputs": [
        {
          "output_type": "error",
          "ename": "TypeError",
          "evalue": "ignored",
          "traceback": [
            "\u001b[0;31m---------------------------------------------------------------------------\u001b[0m",
            "\u001b[0;31mTypeError\u001b[0m                                 Traceback (most recent call last)",
            "\u001b[0;32m<ipython-input-51-e02b9b1b98fd>\u001b[0m in \u001b[0;36m<module>\u001b[0;34m\u001b[0m\n\u001b[0;32m----> 1\u001b[0;31m \u001b[0msets\u001b[0m \u001b[0;34m+=\u001b[0m \u001b[0;34m{\u001b[0m\u001b[0;36m1\u001b[0m\u001b[0;34m,\u001b[0m\u001b[0;36m2\u001b[0m\u001b[0;34m,\u001b[0m\u001b[0;36m3\u001b[0m\u001b[0;34m,\u001b[0m\u001b[0;36m4\u001b[0m\u001b[0;34m,\u001b[0m\u001b[0;36m5\u001b[0m\u001b[0;34m,\u001b[0m\u001b[0;36m6\u001b[0m\u001b[0;34m,\u001b[0m\u001b[0;36m7\u001b[0m\u001b[0;34m}\u001b[0m\u001b[0;34m\u001b[0m\u001b[0;34m\u001b[0m\u001b[0m\n\u001b[0m",
            "\u001b[0;31mTypeError\u001b[0m: unsupported operand type(s) for +=: 'set' and 'set'"
          ]
        }
      ],
      "source": [
        "sets += {1,2,3,4,5,6,7}"
      ]
    },
    {
      "cell_type": "markdown",
      "id": "b25cc74b",
      "metadata": {
        "id": "b25cc74b"
      },
      "source": [
        "## 4 - Dictionary"
      ]
    },
    {
      "cell_type": "code",
      "execution_count": null,
      "id": "73a82a43",
      "metadata": {
        "id": "73a82a43"
      },
      "outputs": [],
      "source": [
        "# A pair of key-value\n",
        "flowers = {\n",
        "    \"rose\": \"red\",\n",
        "    \"sunflower\": \"blue\"\n",
        "}"
      ]
    },
    {
      "cell_type": "markdown",
      "id": "1b107015",
      "metadata": {
        "id": "1b107015"
      },
      "source": [
        "**Does dictionary have index?**"
      ]
    },
    {
      "cell_type": "code",
      "execution_count": null,
      "id": "3e437220",
      "metadata": {
        "id": "3e437220",
        "colab": {
          "base_uri": "https://localhost:8080/",
          "height": 165
        },
        "outputId": "88494974-a5be-4702-d627-5bbe534c3b5b"
      },
      "outputs": [
        {
          "output_type": "error",
          "ename": "KeyError",
          "evalue": "ignored",
          "traceback": [
            "\u001b[0;31m---------------------------------------------------------------------------\u001b[0m",
            "\u001b[0;31mKeyError\u001b[0m                                  Traceback (most recent call last)",
            "\u001b[0;32m<ipython-input-52-11189298660d>\u001b[0m in \u001b[0;36m<module>\u001b[0;34m\u001b[0m\n\u001b[0;32m----> 1\u001b[0;31m \u001b[0mflowers\u001b[0m\u001b[0;34m[\u001b[0m\u001b[0;36m0\u001b[0m\u001b[0;34m]\u001b[0m\u001b[0;34m\u001b[0m\u001b[0;34m\u001b[0m\u001b[0m\n\u001b[0m",
            "\u001b[0;31mKeyError\u001b[0m: 0"
          ]
        }
      ],
      "source": [
        "flowers[0]"
      ]
    },
    {
      "cell_type": "markdown",
      "id": "9cd843b7",
      "metadata": {
        "id": "9cd843b7"
      },
      "source": [
        "**Access dictionary keys and values:**"
      ]
    },
    {
      "cell_type": "code",
      "execution_count": null,
      "id": "c1eba73a",
      "metadata": {
        "id": "c1eba73a",
        "colab": {
          "base_uri": "https://localhost:8080/",
          "height": 36
        },
        "outputId": "2ef18d02-54f8-45a6-a39a-514cf3289073"
      },
      "outputs": [
        {
          "output_type": "execute_result",
          "data": {
            "text/plain": [
              "'red'"
            ],
            "application/vnd.google.colaboratory.intrinsic+json": {
              "type": "string"
            }
          },
          "metadata": {},
          "execution_count": 53
        }
      ],
      "source": [
        "# Access dictionary value through key\n",
        "flowers[\"rose\"]"
      ]
    },
    {
      "cell_type": "code",
      "execution_count": null,
      "id": "ee3f6464",
      "metadata": {
        "id": "ee3f6464",
        "colab": {
          "base_uri": "https://localhost:8080/"
        },
        "outputId": "8de649af-7945-48a1-987a-fef0830a356f"
      },
      "outputs": [
        {
          "output_type": "execute_result",
          "data": {
            "text/plain": [
              "dict_keys(['rose', 'sunflower'])"
            ]
          },
          "metadata": {},
          "execution_count": 54
        }
      ],
      "source": [
        "# Return all the keys in the dictionary\n",
        "flowers.keys()"
      ]
    },
    {
      "cell_type": "code",
      "execution_count": null,
      "id": "fe7bda84",
      "metadata": {
        "id": "fe7bda84",
        "colab": {
          "base_uri": "https://localhost:8080/"
        },
        "outputId": "66d20b5a-f9dd-4e7d-c22c-414a92066b43"
      },
      "outputs": [
        {
          "output_type": "execute_result",
          "data": {
            "text/plain": [
              "dict_values(['red', 'blue'])"
            ]
          },
          "metadata": {},
          "execution_count": 55
        }
      ],
      "source": [
        "# Return all the values in the dictionary\n",
        "flowers.values()"
      ]
    },
    {
      "cell_type": "code",
      "execution_count": null,
      "id": "a434a796",
      "metadata": {
        "id": "a434a796",
        "colab": {
          "base_uri": "https://localhost:8080/"
        },
        "outputId": "75a94902-6e80-45c9-f0a1-dd557f50c04d"
      },
      "outputs": [
        {
          "output_type": "execute_result",
          "data": {
            "text/plain": [
              "dict_items([('rose', 'red'), ('sunflower', 'blue')])"
            ]
          },
          "metadata": {},
          "execution_count": 56
        }
      ],
      "source": [
        "# Return key-value pairs as tuples\n",
        "flowers.items()"
      ]
    },
    {
      "cell_type": "markdown",
      "id": "b8d8c38b",
      "metadata": {
        "id": "b8d8c38b"
      },
      "source": [
        "**Modify the value of an existing key:**"
      ]
    },
    {
      "cell_type": "code",
      "execution_count": null,
      "id": "a58a8515",
      "metadata": {
        "id": "a58a8515",
        "colab": {
          "base_uri": "https://localhost:8080/"
        },
        "outputId": "576a05a9-1906-426b-edcb-89d00ec0dab8"
      },
      "outputs": [
        {
          "output_type": "execute_result",
          "data": {
            "text/plain": [
              "{'rose': 'red', 'sunflower': 'yellow'}"
            ]
          },
          "metadata": {},
          "execution_count": 57
        }
      ],
      "source": [
        "flowers[\"sunflower\"] = \"yellow\"\n",
        "flowers"
      ]
    },
    {
      "cell_type": "markdown",
      "id": "ff5f406d",
      "metadata": {
        "id": "ff5f406d"
      },
      "source": [
        "**Add a new key-value pair:**"
      ]
    },
    {
      "cell_type": "code",
      "execution_count": null,
      "id": "4badcced",
      "metadata": {
        "id": "4badcced",
        "colab": {
          "base_uri": "https://localhost:8080/"
        },
        "outputId": "f8da8603-bed4-4078-8907-315d85545195"
      },
      "outputs": [
        {
          "output_type": "execute_result",
          "data": {
            "text/plain": [
              "{'rose': 'red', 'sunflower': 'yellow', 'tulip': 'purple'}"
            ]
          },
          "metadata": {},
          "execution_count": 58
        }
      ],
      "source": [
        "flowers[\"tulip\"] = \"purple\"\n",
        "flowers"
      ]
    },
    {
      "cell_type": "code",
      "execution_count": null,
      "id": "ff244126",
      "metadata": {
        "id": "ff244126",
        "colab": {
          "base_uri": "https://localhost:8080/",
          "height": 165
        },
        "outputId": "7e927268-b0b5-498e-b9f7-31a0ac6ad874"
      },
      "outputs": [
        {
          "output_type": "error",
          "ename": "KeyError",
          "evalue": "ignored",
          "traceback": [
            "\u001b[0;31m---------------------------------------------------------------------------\u001b[0m",
            "\u001b[0;31mKeyError\u001b[0m                                  Traceback (most recent call last)",
            "\u001b[0;32m<ipython-input-59-9013aea81ae4>\u001b[0m in \u001b[0;36m<module>\u001b[0;34m\u001b[0m\n\u001b[0;32m----> 1\u001b[0;31m \u001b[0mflowers\u001b[0m\u001b[0;34m[\u001b[0m\u001b[0;34m\"lily\"\u001b[0m\u001b[0;34m]\u001b[0m\u001b[0;34m\u001b[0m\u001b[0;34m\u001b[0m\u001b[0m\n\u001b[0m",
            "\u001b[0;31mKeyError\u001b[0m: 'lily'"
          ]
        }
      ],
      "source": [
        "flowers[\"lily\"]"
      ]
    },
    {
      "cell_type": "markdown",
      "id": "594d6d3a",
      "metadata": {
        "id": "594d6d3a"
      },
      "source": [
        "### Defaultdict"
      ]
    },
    {
      "cell_type": "code",
      "execution_count": null,
      "id": "b274b542",
      "metadata": {
        "id": "b274b542"
      },
      "outputs": [],
      "source": [
        "# import defaultdict\n",
        "from collections import defaultdict"
      ]
    },
    {
      "cell_type": "code",
      "execution_count": null,
      "id": "6598b2dc",
      "metadata": {
        "id": "6598b2dc"
      },
      "outputs": [],
      "source": [
        "grocery = defaultdict(int)\n",
        "\n",
        "grocery[\"apple\"] = 5\n",
        "grocery[\"orange\"] = 3\n",
        "grocery[\"egg\"] = 10"
      ]
    },
    {
      "cell_type": "code",
      "execution_count": null,
      "id": "19bc6f54",
      "metadata": {
        "id": "19bc6f54",
        "colab": {
          "base_uri": "https://localhost:8080/"
        },
        "outputId": "b74ccd02-d815-40db-a38a-c108acda1634"
      },
      "outputs": [
        {
          "output_type": "execute_result",
          "data": {
            "text/plain": [
              "0"
            ]
          },
          "metadata": {},
          "execution_count": 62
        }
      ],
      "source": [
        "grocery[\"banana\"]"
      ]
    },
    {
      "cell_type": "code",
      "execution_count": null,
      "id": "9a0b0a7c",
      "metadata": {
        "id": "9a0b0a7c",
        "colab": {
          "base_uri": "https://localhost:8080/"
        },
        "outputId": "f90bdc61-010a-46a9-f8aa-9a9fb3481d5b"
      },
      "outputs": [
        {
          "output_type": "execute_result",
          "data": {
            "text/plain": [
              "defaultdict(int, {'apple': 5, 'orange': 3, 'egg': 10, 'banana': 7})"
            ]
          },
          "metadata": {},
          "execution_count": 63
        }
      ],
      "source": [
        "grocery[\"banana\"] = 7\n",
        "grocery"
      ]
    },
    {
      "cell_type": "markdown",
      "id": "20714252",
      "metadata": {
        "id": "20714252"
      },
      "source": [
        "**Sorting dictionary:**"
      ]
    },
    {
      "cell_type": "code",
      "execution_count": null,
      "id": "492c6e13",
      "metadata": {
        "id": "492c6e13",
        "colab": {
          "base_uri": "https://localhost:8080/"
        },
        "outputId": "08e5ec73-070d-4331-aee5-53018903e70e"
      },
      "outputs": [
        {
          "output_type": "execute_result",
          "data": {
            "text/plain": [
              "{'apple': 5, 'banana': 7, 'egg': 10, 'orange': 3}"
            ]
          },
          "metadata": {},
          "execution_count": 64
        }
      ],
      "source": [
        "# Sort a dictionary by keys\n",
        "sorted_dict = dict(sorted(grocery.items()))\n",
        "sorted_dict"
      ]
    },
    {
      "cell_type": "code",
      "execution_count": null,
      "id": "acf3d9f5",
      "metadata": {
        "id": "acf3d9f5",
        "colab": {
          "base_uri": "https://localhost:8080/"
        },
        "outputId": "d0c469a6-d892-4809-aedd-688166e02621"
      },
      "outputs": [
        {
          "output_type": "execute_result",
          "data": {
            "text/plain": [
              "{'orange': 3, 'apple': 5, 'banana': 7, 'egg': 10}"
            ]
          },
          "metadata": {},
          "execution_count": 65
        }
      ],
      "source": [
        "# Sort a dictionary by values\n",
        "sorted_dict = dict(sorted(grocery.items(), key=lambda x:x[1]))\n",
        "sorted_dict"
      ]
    }
  ],
  "metadata": {
    "kernelspec": {
      "display_name": "Python 3 (ipykernel)",
      "language": "python",
      "name": "python3"
    },
    "language_info": {
      "codemirror_mode": {
        "name": "ipython",
        "version": 3
      },
      "file_extension": ".py",
      "mimetype": "text/x-python",
      "name": "python",
      "nbconvert_exporter": "python",
      "pygments_lexer": "ipython3",
      "version": "3.9.12"
    },
    "colab": {
      "provenance": [],
      "include_colab_link": true
    }
  },
  "nbformat": 4,
  "nbformat_minor": 5
}