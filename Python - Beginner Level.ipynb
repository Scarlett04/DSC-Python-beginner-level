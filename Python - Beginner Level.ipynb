{
 "cells": [
  {
   "cell_type": "markdown",
   "id": "5b2890ba",
   "metadata": {},
   "source": [
    "# Python Fundamentals\n",
    "\n",
    "#### This is a crash course on Python! I cannot cover everything within an hour, so you will have to do some learning for yourself! 🐍\n",
    "\n",
    "* Check this video for a good hands-on tutorial: https://www.youtube.com/watch?v=rfscVS0vtbw&ab_channel=freeCodeCamp.org\n",
    "* This is also a good video for those who are interested in a deeper understanding: https://www.youtube.com/watch?v=eWRfhZUzrAc&ab_channel=freeCodeCamp.org\n",
    "* If you prefer a website instead: https://realpython.com\n",
    "* Once you are done with learning, go ahead and practice!: https://pynative.com/python-basic-exercise-for-beginners/\n",
    "* Other YT channels:\n",
    "    1. FreeCodeCamp\n",
    "    2. Bro Code\n",
    "    3. Corey Schafer\n",
    "    4. Patrick Loeber (aka the Python Engineer)\n",
    "\n",
    "#### DISCLAIMER: DO NOT BEAT YOURSELF UP IF YOU DIDN'T UNDERSTAND ANYTHING I TAUGHT YOU TODAY. THIS IS A CRASH COURSE, NOT NECESSARILY A SLOW-PACED ONE."
   ]
  },
  {
   "cell_type": "markdown",
   "id": "973a9b03",
   "metadata": {},
   "source": [
    "# Chapter 1: Print, Variables, and Data types\n",
    "\n",
    "The **print()** function lets the program display a message on the screen.\n",
    "\n",
    "You can use comments to describe what you are trying to do with the program. The code in the comment is ignored when execute the program."
   ]
  },
  {
   "cell_type": "code",
   "execution_count": null,
   "id": "33a89267",
   "metadata": {},
   "outputs": [],
   "source": [
    "# Hello World program (mention single-line comment & multiple-lines comment)"
   ]
  },
  {
   "cell_type": "markdown",
   "id": "bbf4c666",
   "metadata": {},
   "source": [
    "#### There are 3 main types of data:\n",
    "\n",
    "1. Int - integer number\n",
    "2. Float - decimal number\n",
    "3. String - a piece of text\n",
    "4. Boolean - true and false value."
   ]
  },
  {
   "cell_type": "code",
   "execution_count": null,
   "id": "952d015f",
   "metadata": {},
   "outputs": [],
   "source": [
    "# variables - declare a few variables of all types."
   ]
  },
  {
   "cell_type": "code",
   "execution_count": null,
   "id": "e9a286f6",
   "metadata": {},
   "outputs": [],
   "source": [
    "# type conversion"
   ]
  },
  {
   "cell_type": "code",
   "execution_count": null,
   "id": "1c4fc549",
   "metadata": {},
   "outputs": [],
   "source": [
    "# combine - combine printing variables and strings. Then, show arithmetic operations and functions. (F strings and indentations too!)"
   ]
  },
  {
   "cell_type": "markdown",
   "id": "58f8dc04",
   "metadata": {},
   "source": [
    "# Chapter 2: Iterables\n",
    "\n",
    "Iterables are containers to store other objects.\n",
    "1. List: ordered, mutable collection of elements.\n",
    "2. Tuple: ordered, immutable collection of elements.\n",
    "3. Set: unordered, mutable collection of **unique** elements.\n",
    "4. Dictionary: unordered, mutable collection of key-value pairs."
   ]
  },
  {
   "cell_type": "code",
   "execution_count": null,
   "id": "e50c795b",
   "metadata": {},
   "outputs": [],
   "source": [
    "lst = [0,1,2,'Data','Science','Club',0,1,2]\n",
    "# list indexing, slicing\n",
    "# list functions: add, remove items; operations (+, *) with list."
   ]
  },
  {
   "cell_type": "code",
   "execution_count": null,
   "id": "20edb2ee",
   "metadata": {},
   "outputs": [],
   "source": [
    "dt = {\"Name\" : \"Bryce\", \"Age\" : 23, \"Major\" : \"Electrical engineering\"}\n",
    "# dictionary indexing\n",
    "# dictionary functions: keys(), items()."
   ]
  },
  {
   "cell_type": "code",
   "execution_count": null,
   "id": "3850f5bc",
   "metadata": {
    "scrolled": true
   },
   "outputs": [],
   "source": [
    "my_tuple = (1,2,3,\"Hello\",\"World\",0,1,2)"
   ]
  },
  {
   "cell_type": "code",
   "execution_count": null,
   "id": "495078cf",
   "metadata": {},
   "outputs": [],
   "source": [
    "my_set = {1,1,1,1,2,3,3,4,5,5}"
   ]
  },
  {
   "cell_type": "markdown",
   "id": "defe9e64",
   "metadata": {},
   "source": [
    "# Chapter 3: Conditional Statements, While loops\n",
    "    if/elif/else statements\n",
    "We use if-else statements to check whether a condition is correct or not. If the condition in **if** statement is correct, the statement block inside it will be executed. Otherwise, it will continue to check the condition in **elif** statemtent and execute the block if the condition in **elif** is correct. If no conditions are correct, the block inside the **else** statement will be executed."
   ]
  },
  {
   "cell_type": "code",
   "execution_count": null,
   "id": "71103f4b",
   "metadata": {},
   "outputs": [],
   "source": [
    "# teach how an if/elif/else statement works (together with and, or keywords)"
   ]
  },
  {
   "cell_type": "markdown",
   "id": "40800633",
   "metadata": {},
   "source": [
    "While loops - perform a set of instructions UNTIL a condition has been met."
   ]
  },
  {
   "cell_type": "code",
   "execution_count": null,
   "id": "72ab5dbd",
   "metadata": {},
   "outputs": [],
   "source": [
    "# while loops"
   ]
  },
  {
   "cell_type": "markdown",
   "id": "7125cbe5",
   "metadata": {},
   "source": [
    "# Chapter 4: Loops, Nested loops\n",
    "\n",
    "Loops allow the programmer to repeat instructions a specified number of times.\n",
    "\n",
    "For loops - allow you to make the program repeat a set of instructions for a specific number of times\n",
    "\n",
    "List iterations - for loops can also be used to iterate through lists.\n",
    "\n",
    "nested loops - a for loop inside a for loop - the inner for loop will finish one full cycle for every iteration of the outer loop."
   ]
  },
  {
   "cell_type": "code",
   "execution_count": null,
   "id": "f44d5595",
   "metadata": {},
   "outputs": [],
   "source": [
    "# for loops ()"
   ]
  },
  {
   "cell_type": "code",
   "execution_count": null,
   "id": "d2d15508",
   "metadata": {},
   "outputs": [],
   "source": [
    "# list iteration - introduce enumerate too."
   ]
  },
  {
   "cell_type": "code",
   "execution_count": null,
   "id": "5974bfa0",
   "metadata": {},
   "outputs": [],
   "source": [
    "# teach about nested loops here - single nested loop will do for now."
   ]
  },
  {
   "cell_type": "markdown",
   "id": "2ee15917",
   "metadata": {},
   "source": [
    "# Chapter 5: Functions\n",
    "\n",
    "Functions are a specific set of instructions. They allow you to group together a specific set of instructions together.\n",
    "\n",
    "So, instead of:\n",
    "1. Boil water\n",
    "2. Add tea leaves\n",
    "3. Add milk\n",
    "4. Pour in a cup\n",
    "5. Serve\n",
    "\n",
    "You can group them together as one function: MakeTea."
   ]
  },
  {
   "cell_type": "code",
   "execution_count": null,
   "id": "91fa2a3b",
   "metadata": {},
   "outputs": [],
   "source": [
    "# define a basic function."
   ]
  },
  {
   "cell_type": "code",
   "execution_count": null,
   "id": "ec60c300",
   "metadata": {},
   "outputs": [],
   "source": [
    "# teach about parameters and default value."
   ]
  },
  {
   "cell_type": "code",
   "execution_count": null,
   "id": "984bca86",
   "metadata": {},
   "outputs": [],
   "source": [
    "# teach return statements."
   ]
  },
  {
   "cell_type": "markdown",
   "id": "eaeb05c7",
   "metadata": {},
   "source": [
    "We can also create an in-line functions using **lambda**. A lambda function is an anonynymous function. It can take any number of arguments, but can only have one expression."
   ]
  },
  {
   "cell_type": "code",
   "execution_count": null,
   "id": "ce1569b7",
   "metadata": {},
   "outputs": [],
   "source": [
    "# example of lambda function."
   ]
  },
  {
   "cell_type": "markdown",
   "id": "c6e6ec2c",
   "metadata": {},
   "source": [
    "# Chapter 6: Built-in functions, Module, Package\n",
    "\n",
    "In this chapter we will look at:\n",
    "1. Map - Call the function on all elements of the iterable.\n",
    "2. Filter - Filter all the elements of the iterable that satisfy the function. Here, the function must return a boolean value.\n",
    "3. Math"
   ]
  },
  {
   "cell_type": "code",
   "execution_count": null,
   "id": "62d99c38",
   "metadata": {},
   "outputs": [],
   "source": [
    "# list(map(function, *iterables))"
   ]
  },
  {
   "cell_type": "code",
   "execution_count": null,
   "id": "fd146a24",
   "metadata": {},
   "outputs": [],
   "source": [
    "# list(filter(function, *iterables))"
   ]
  },
  {
   "cell_type": "code",
   "execution_count": null,
   "id": "1b123461",
   "metadata": {},
   "outputs": [],
   "source": [
    "# import math model and demonstrate some functions"
   ]
  },
  {
   "cell_type": "markdown",
   "id": "ef967157",
   "metadata": {},
   "source": [
    "#### ALL DONE! Make sure to check the links out for the python tutorials, it is highly recommended. The tutorials explain better than me, since they didn't have any time constraint. lol. Once you're done with that, go ahead and PRACTICE, PRACTICE, PRACTICE!"
   ]
  }
 ],
 "metadata": {
  "kernelspec": {
   "display_name": "Python 3 (ipykernel)",
   "language": "python",
   "name": "python3"
  },
  "language_info": {
   "codemirror_mode": {
    "name": "ipython",
    "version": 3
   },
   "file_extension": ".py",
   "mimetype": "text/x-python",
   "name": "python",
   "nbconvert_exporter": "python",
   "pygments_lexer": "ipython3",
   "version": "3.9.12"
  }
 },
 "nbformat": 4,
 "nbformat_minor": 5
}
