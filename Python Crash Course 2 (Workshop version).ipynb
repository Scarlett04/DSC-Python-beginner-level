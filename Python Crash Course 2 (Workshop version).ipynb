{
  "nbformat": 4,
  "nbformat_minor": 0,
  "metadata": {
    "colab": {
      "provenance": [],
      "include_colab_link": true
    },
    "kernelspec": {
      "name": "python3",
      "display_name": "Python 3"
    },
    "language_info": {
      "name": "python"
    }
  },
  "cells": [
    {
      "cell_type": "markdown",
      "metadata": {
        "id": "view-in-github",
        "colab_type": "text"
      },
      "source": [
        "<a href=\"https://colab.research.google.com/github/Scarlett04/DSC-Python-crash-course/blob/main/Python%20Crash%20Course%202%20(Workshop%20version).ipynb\" target=\"_parent\"><img src=\"https://colab.research.google.com/assets/colab-badge.svg\" alt=\"Open In Colab\"/></a>"
      ]
    },
    {
      "cell_type": "markdown",
      "source": [
        "# **Python Crash Course - Day 2**\n",
        "\n",
        "Welcome to the Python Crash Course Workshop!\n",
        "\n",
        "Python is considered to be one of the most widely used programming languages in the field of data science since it offers a wide variety of libraries and tools to help us manipulate, analyze, and visualize data.\n",
        "\n",
        "In this section, we aim to introduce you to the following contents and related exercises are provided to practice:\n",
        "1. Conditional statement (if-else)\n",
        "2. While loop, For loop\n",
        "3. Functions\n",
        "4. Methods\n"
      ],
      "metadata": {
        "id": "Ua3wvGgRNmS5"
      }
    },
    {
      "cell_type": "markdown",
      "source": [
        "# **If, Elif, Else Statements**\n",
        "If-elif-else statement is used in Python for decision-making i.e the program will evaluate test expression and will execute the remaining statements only if the given test expression turns out to be true. This allows validation for multiple expressions.\n",
        "\n",
        "**Syntax**\n",
        "\n",
        "if condition:\n",
        "> statement\n",
        "\n",
        "elif condition:\n",
        "> statement\n",
        "\n",
        "...\n",
        "\n",
        "else:\n",
        "> statement\n",
        "\n"
      ],
      "metadata": {
        "id": "hKBE5qgtO8yo"
      }
    },
    {
      "cell_type": "code",
      "execution_count": null,
      "metadata": {
        "colab": {
          "base_uri": "https://localhost:8080/"
        },
        "id": "f_LP-a3eNftb",
        "outputId": "6f88f1df-445d-4ad1-d8ba-dcfa65e08719"
      },
      "outputs": [
        {
          "output_type": "stream",
          "name": "stdout",
          "text": [
            "true\n"
          ]
        }
      ],
      "source": [
        "if 1 < 2:\n",
        "  print(\"true\")"
      ]
    },
    {
      "cell_type": "code",
      "source": [
        "a = int(input())\n",
        "\n",
        "if a % 2 == 0:\n",
        "  print(\"a is an even number!\")\n",
        "else:\n",
        "  print(\"a is an odd number!\")"
      ],
      "metadata": {
        "colab": {
          "base_uri": "https://localhost:8080/"
        },
        "id": "PftgYRJjSW7f",
        "outputId": "4c8ada5e-7ce6-403f-eb2d-7d7f172ab801"
      },
      "execution_count": null,
      "outputs": [
        {
          "output_type": "stream",
          "name": "stdout",
          "text": [
            "3\n",
            "a is an odd number!\n"
          ]
        }
      ]
    },
    {
      "cell_type": "code",
      "source": [
        "a = int(input())\n",
        "\n",
        "if a > 0:\n",
        "  print(\"a is a positive integer\")\n",
        "elif a < 0:\n",
        "  print(\"a is a negative integer\")\n",
        "else:\n",
        "  print(\"a is equal to zero\")"
      ],
      "metadata": {
        "colab": {
          "base_uri": "https://localhost:8080/"
        },
        "id": "xPU6NSf5SJIL",
        "outputId": "a83916ba-3a49-46ae-af7f-30fe49a4e286"
      },
      "execution_count": null,
      "outputs": [
        {
          "output_type": "stream",
          "name": "stdout",
          "text": [
            "10\n",
            "a is a positive integer\n"
          ]
        }
      ]
    },
    {
      "cell_type": "code",
      "source": [
        "a = 200\n",
        "b = 33\n",
        "c = 500\n",
        "if a > b and c > a:\n",
        "  print(\"Both conditions are True\")"
      ],
      "metadata": {
        "colab": {
          "base_uri": "https://localhost:8080/"
        },
        "id": "cHEqQdIszX51",
        "outputId": "0516e6ba-c6e5-4012-f941-67d22c7e7fc0"
      },
      "execution_count": null,
      "outputs": [
        {
          "output_type": "stream",
          "name": "stdout",
          "text": [
            "Both conditions are True\n"
          ]
        }
      ]
    },
    {
      "cell_type": "code",
      "source": [
        "a = 200\n",
        "b = 33\n",
        "c = 500\n",
        "if a > b or a > c:\n",
        "  print(\"At least one of the conditions is True\")"
      ],
      "metadata": {
        "colab": {
          "base_uri": "https://localhost:8080/"
        },
        "id": "J5UQy6aEzumx",
        "outputId": "239d1afa-bb94-457b-fe1f-2895905a1633"
      },
      "execution_count": null,
      "outputs": [
        {
          "output_type": "stream",
          "name": "stdout",
          "text": [
            "At least one of the conditions is True\n"
          ]
        }
      ]
    },
    {
      "cell_type": "code",
      "source": [
        "a = True\n",
        "\n",
        "if not a:\n",
        "  print(\"a is false\")"
      ],
      "metadata": {
        "id": "5Dvh6FtS7bYF"
      },
      "execution_count": null,
      "outputs": []
    },
    {
      "cell_type": "markdown",
      "source": [
        "*Exercise*\n",
        "1. Enter the score and determine the student's academic performance (A: 90-100, B: 80-89, C: 70-79, D: 60-69, F: less than 60)"
      ],
      "metadata": {
        "id": "siGHXSvZOzzi"
      }
    },
    {
      "cell_type": "code",
      "source": [],
      "metadata": {
        "id": "JjLB_wLR0aty"
      },
      "execution_count": null,
      "outputs": []
    },
    {
      "cell_type": "markdown",
      "source": [
        "2. Enter any year (an integer) and determine whether it is a leap year"
      ],
      "metadata": {
        "id": "pwTXEb6g7ahy"
      }
    },
    {
      "cell_type": "code",
      "source": [],
      "metadata": {
        "id": "yuF3FRBh0Zlp"
      },
      "execution_count": null,
      "outputs": []
    },
    {
      "cell_type": "markdown",
      "source": [
        "3. Enter the length of 3 sides of a triangle, check if the lengths are valid? If yes, check if it is an equilateral/isosceles/right/isosceles triangle?"
      ],
      "metadata": {
        "id": "QzYxIhZU7eAe"
      }
    },
    {
      "cell_type": "code",
      "source": [],
      "metadata": {
        "id": "aXCo8GzG0ZaD"
      },
      "execution_count": null,
      "outputs": []
    },
    {
      "cell_type": "markdown",
      "source": [
        "# **While Loop**\n",
        "With the *while* loop we can execute a set of statements as long as a condition is true.\n",
        "\n",
        "**Syntax**\n",
        "\n",
        "while condition:\n",
        "> do_commands\n",
        "\n"
      ],
      "metadata": {
        "id": "pQqqnIr0TvgN"
      }
    },
    {
      "cell_type": "code",
      "source": [
        "i = 0\n",
        "\n",
        "while (i < 10):\n",
        "  print(i)\n",
        "  i += 1"
      ],
      "metadata": {
        "colab": {
          "base_uri": "https://localhost:8080/"
        },
        "id": "YphkX7HjVNlQ",
        "outputId": "b9826dc4-8332-4e41-ac49-11ce03d035a0"
      },
      "execution_count": null,
      "outputs": [
        {
          "output_type": "stream",
          "name": "stdout",
          "text": [
            "0\n",
            "1\n",
            "2\n",
            "3\n",
            "4\n",
            "5\n",
            "6\n",
            "7\n",
            "8\n",
            "9\n"
          ]
        }
      ]
    },
    {
      "cell_type": "code",
      "source": [
        "a = 0 \n",
        "\n",
        "while a < 10:\n",
        "  if a % 2 == 0:\n",
        "    print(a)\n",
        "  a += 1"
      ],
      "metadata": {
        "colab": {
          "base_uri": "https://localhost:8080/"
        },
        "id": "OQMS7BJ8Wao3",
        "outputId": "ecc58522-f31b-4481-a290-5478e892a602"
      },
      "execution_count": null,
      "outputs": [
        {
          "output_type": "stream",
          "name": "stdout",
          "text": [
            "0\n",
            "2\n",
            "4\n",
            "6\n",
            "8\n"
          ]
        }
      ]
    },
    {
      "cell_type": "markdown",
      "source": [
        "*Exercise*\n",
        "1. Enter an integer n, print the sum of the numbers from 1 to n. For example: n = 10, the printout is 55"
      ],
      "metadata": {
        "id": "YJNexb0kXMl9"
      }
    },
    {
      "cell_type": "code",
      "source": [],
      "metadata": {
        "id": "kQM5hjCD0eSa"
      },
      "execution_count": null,
      "outputs": []
    },
    {
      "cell_type": "markdown",
      "source": [
        "2. Enter an integer n, calculate: (1) number of digits of n, (2) sum of the digits of n "
      ],
      "metadata": {
        "id": "bpwZP0HO7q4U"
      }
    },
    {
      "cell_type": "code",
      "source": [],
      "metadata": {
        "id": "6qDdN9O50eJw"
      },
      "execution_count": null,
      "outputs": []
    },
    {
      "cell_type": "markdown",
      "source": [
        "# **For Loop**\n",
        "A *for* loop is used for iterating over a sequence (that is either a list, a tuple, a dictionary, a set, or a string)\n",
        "\n",
        "With the *for* loop we can execute a set of statements, once for each item in a list, tuple, set, etc.\n"
      ],
      "metadata": {
        "id": "fQNmkSDtS8C1"
      }
    },
    {
      "cell_type": "code",
      "source": [
        "seq = [1, 2, 3, 4, 5]"
      ],
      "metadata": {
        "id": "sJm1O4VwS2uS"
      },
      "execution_count": null,
      "outputs": []
    },
    {
      "cell_type": "code",
      "source": [
        "for item in seq:\n",
        "  print(item)"
      ],
      "metadata": {
        "colab": {
          "base_uri": "https://localhost:8080/"
        },
        "id": "qIt6CeaegnAJ",
        "outputId": "0ec48876-d379-46b9-d121-7b4b1908ec45"
      },
      "execution_count": null,
      "outputs": [
        {
          "output_type": "stream",
          "name": "stdout",
          "text": [
            "1\n",
            "2\n",
            "3\n",
            "4\n",
            "5\n"
          ]
        }
      ]
    },
    {
      "cell_type": "code",
      "source": [
        "for jelly in seq:\n",
        "  if jelly%2==0:\n",
        "    print(jelly)"
      ],
      "metadata": {
        "colab": {
          "base_uri": "https://localhost:8080/"
        },
        "id": "Llwrxmyxg43x",
        "outputId": "e72a6358-d594-470d-d18c-31e0bb3e6110"
      },
      "execution_count": null,
      "outputs": [
        {
          "output_type": "stream",
          "name": "stdout",
          "text": [
            "2\n",
            "4\n"
          ]
        }
      ]
    },
    {
      "cell_type": "code",
      "source": [
        "diction = {\n",
        "    \"Laptop\": 1000,\n",
        "    \"Tablet\": 500,\n",
        "    \"Cellphone\": 300\n",
        "}\n",
        "\n",
        "for key,value in diction.items():\n",
        "  print(f\"A new {key} costs ${value}.\")"
      ],
      "metadata": {
        "colab": {
          "base_uri": "https://localhost:8080/"
        },
        "id": "sw8LytSIUmXD",
        "outputId": "2485dae2-aae5-4bd8-9eda-70127e65d239"
      },
      "execution_count": null,
      "outputs": [
        {
          "output_type": "stream",
          "name": "stdout",
          "text": [
            "A new Laptop costs $1000.\n",
            "A new Tablet costs $500.\n",
            "A new Cellphone costs $300.\n"
          ]
        }
      ]
    },
    {
      "cell_type": "markdown",
      "source": [
        "**range()**\n",
        "> Range returns a sequence of number to iterate through it\n",
        "\n",
        "> range(start = 0, stop, step = 1): must provide stop, start and step are optional with default value 0, 1 respectively\n"
      ],
      "metadata": {
        "id": "e1z7p3iZ9D4o"
      }
    },
    {
      "cell_type": "code",
      "source": [
        "for i in range(5):\n",
        "  print(i)"
      ],
      "metadata": {
        "colab": {
          "base_uri": "https://localhost:8080/"
        },
        "id": "oZaw0XAzhAxN",
        "outputId": "b59ccf4c-91f0-4dd7-9685-9cae2b89c9ae"
      },
      "execution_count": null,
      "outputs": [
        {
          "output_type": "stream",
          "name": "stdout",
          "text": [
            "0\n",
            "1\n",
            "2\n",
            "3\n",
            "4\n"
          ]
        }
      ]
    },
    {
      "cell_type": "code",
      "source": [
        "list(range(7))"
      ],
      "metadata": {
        "colab": {
          "base_uri": "https://localhost:8080/"
        },
        "id": "26xbedn8hMhX",
        "outputId": "bbe29fce-6240-4b88-d551-642d938ffefd"
      },
      "execution_count": null,
      "outputs": [
        {
          "output_type": "execute_result",
          "data": {
            "text/plain": [
              "[0, 1, 2, 3, 4, 5, 6]"
            ]
          },
          "metadata": {},
          "execution_count": 24
        }
      ]
    },
    {
      "cell_type": "markdown",
      "source": [
        "*Exercise*\n",
        "1. Enter a integer n, print the divisors of n and less than n. For example: n = 6, the printout is 1, 2, 3"
      ],
      "metadata": {
        "id": "Vf228vWQg9oS"
      }
    },
    {
      "cell_type": "code",
      "source": [],
      "metadata": {
        "id": "-ByFSRmB0lXm"
      },
      "execution_count": null,
      "outputs": []
    },
    {
      "cell_type": "markdown",
      "source": [
        "2. Enter an integer n, determine it is a prime or not"
      ],
      "metadata": {
        "id": "T5qhb2qj7uft"
      }
    },
    {
      "cell_type": "code",
      "source": [],
      "metadata": {
        "id": "1T1n_Jwi0lOG"
      },
      "execution_count": null,
      "outputs": []
    },
    {
      "cell_type": "markdown",
      "source": [
        "**Break statement:** is used to terminate the loop or statement in which it is present. After that, the control will pass to the statements that are present after the break statement, if available. If the break statement is present in the nested loop, then it terminates only those loops which contains break statement.\n",
        "\n",
        "![break-2.jpg](data:image/jpeg;base64,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)"
      ],
      "metadata": {
        "id": "NXqG7WOK1Tkd"
      }
    },
    {
      "cell_type": "code",
      "source": [
        "s = 'data science Club'\n",
        "\n",
        "# Using for loop \n",
        "for letter in s: \n",
        "    \n",
        "    print(letter) \n",
        "    # break the loop as soon it sees 'e' or 's' \n",
        "    if letter == 'e' or letter == 's': \n",
        "        break\n",
        "    \n",
        "print(\"Out of for loop\") "
      ],
      "metadata": {
        "colab": {
          "base_uri": "https://localhost:8080/"
        },
        "id": "vXkMfEdE1-Cg",
        "outputId": "d896c135-1e77-488d-c94f-eb5065393249"
      },
      "execution_count": null,
      "outputs": [
        {
          "output_type": "stream",
          "name": "stdout",
          "text": [
            "d\n",
            "a\n",
            "t\n",
            "a\n",
            " \n",
            "s\n",
            "Out of for loop\n"
          ]
        }
      ]
    },
    {
      "cell_type": "code",
      "source": [
        "i = 0\n",
        "    \n",
        "# Using while loop \n",
        "while True: \n",
        "    print(s[i]) \n",
        "    \n",
        "    # break the loop as soon it sees 'e' or 's' \n",
        "    if s[i] == 'e' or s[i] == 's': \n",
        "        break\n",
        "    i += 1\n",
        "    \n",
        "print(\"Out of while loop\")"
      ],
      "metadata": {
        "colab": {
          "base_uri": "https://localhost:8080/"
        },
        "id": "AwTueCLV2YJU",
        "outputId": "f6267011-c836-4e1c-b064-4ca1fbebd7fa"
      },
      "execution_count": null,
      "outputs": [
        {
          "output_type": "stream",
          "name": "stdout",
          "text": [
            "d\n",
            "a\n",
            "t\n",
            "a\n",
            " \n",
            "s\n",
            "Out of while loop\n"
          ]
        }
      ]
    },
    {
      "cell_type": "markdown",
      "source": [
        "**Continue statement:** is opposite to that of break statement, instead of terminating the loop, it forces to execute the next iteration of the loop.\n",
        "\n",
        "![image.png](data:image/png;base64,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)"
      ],
      "metadata": {
        "id": "NCdVwRYQ2hMe"
      }
    },
    {
      "cell_type": "code",
      "source": [
        "for i in range(1, 11): \n",
        "    \n",
        "    # If i is equals to 6, continue to next iteration without printing  \n",
        "    if i == 6: \n",
        "        continue\n",
        "    else: \n",
        "        # otherwise print the value of i \n",
        "        print(i, end = \" \")"
      ],
      "metadata": {
        "colab": {
          "base_uri": "https://localhost:8080/"
        },
        "id": "iA7IZKDF2r_y",
        "outputId": "85a0cebc-ac3e-443f-892b-d422957bcfe3"
      },
      "execution_count": null,
      "outputs": [
        {
          "output_type": "stream",
          "name": "stdout",
          "text": [
            "1 2 3 4 5 7 8 9 10 "
          ]
        }
      ]
    },
    {
      "cell_type": "markdown",
      "source": [
        "# **Function**\n",
        "A function is a block of code which only runs when it is called. \n",
        "\n",
        "You can pass data, known as parameters, into a function.\n",
        "\n",
        "A function can return data as a result.\n",
        "\n",
        "*Input and output of function* \n",
        "> Function to check prime number? Input: number, output: prime number or not\n",
        "\n",
        "> Get the longest name in list? Input: list of names, output: the longest name\n",
        "\n",
        "> Sort the list? Input: list of numbers, output: sorted list\n",
        "\n",
        "**Declare the function**\n",
        "\n",
        "def funtion_name():\n",
        "> block_of_code\n"
      ],
      "metadata": {
        "id": "83DGRhfgnpJq"
      }
    },
    {
      "cell_type": "code",
      "source": [
        "def greet():\n",
        "  print(\"Hello world\")\n",
        "\n",
        "greet()\n",
        "greet()"
      ],
      "metadata": {
        "colab": {
          "base_uri": "https://localhost:8080/"
        },
        "id": "bLC2_OkKh4Cv",
        "outputId": "d5f48d90-8fa0-43ac-fc0e-528755841c5a"
      },
      "execution_count": null,
      "outputs": [
        {
          "output_type": "stream",
          "name": "stdout",
          "text": [
            "Hello world\n",
            "Hello world\n"
          ]
        }
      ]
    },
    {
      "cell_type": "code",
      "source": [
        "def square(x):\n",
        "  return x**2\n",
        "\n",
        "square(8)"
      ],
      "metadata": {
        "colab": {
          "base_uri": "https://localhost:8080/"
        },
        "id": "a4yk52Hlrr7J",
        "outputId": "1c76022b-6a2c-4c1a-f6ca-de364326f9b2"
      },
      "execution_count": null,
      "outputs": [
        {
          "output_type": "execute_result",
          "data": {
            "text/plain": [
              "64"
            ]
          },
          "metadata": {},
          "execution_count": 27
        }
      ]
    },
    {
      "cell_type": "code",
      "source": [
        "x = lambda a : a + 10\n",
        "print(x(5))"
      ],
      "metadata": {
        "colab": {
          "base_uri": "https://localhost:8080/"
        },
        "id": "5ATLKgoW0z6q",
        "outputId": "b05e5ed7-a00c-400e-abf3-8996ef33e190"
      },
      "execution_count": null,
      "outputs": [
        {
          "output_type": "stream",
          "name": "stdout",
          "text": [
            "15\n"
          ]
        }
      ]
    },
    {
      "cell_type": "code",
      "source": [
        "x = lambda a, b, c : a + b + c\n",
        "print(x(5, 6, 2))"
      ],
      "metadata": {
        "colab": {
          "base_uri": "https://localhost:8080/"
        },
        "id": "8hE9R0hy03KC",
        "outputId": "c0afad9b-cf72-4609-8eb4-dfcec5da2758"
      },
      "execution_count": null,
      "outputs": [
        {
          "output_type": "stream",
          "name": "stdout",
          "text": [
            "13\n"
          ]
        }
      ]
    },
    {
      "cell_type": "markdown",
      "source": [
        "*Exercise*\n",
        "1. Write a function to convert Celsius degree into Fahrenheit degree"
      ],
      "metadata": {
        "id": "hQ-9HTO9r0BU"
      }
    },
    {
      "cell_type": "code",
      "source": [
        "def celsius_to_fahrenheit(celsius):\n",
        "    fahrenheit = (celsius * 9/5) + 32\n",
        "    return fahrenheit"
      ],
      "metadata": {
        "id": "pbYYYeDr74Ij"
      },
      "execution_count": null,
      "outputs": []
    },
    {
      "cell_type": "markdown",
      "source": [
        "2. Write a function that calculates n!"
      ],
      "metadata": {
        "id": "Z4AZ79YB7zLg"
      }
    },
    {
      "cell_type": "code",
      "source": [
        "def factorial(n):\n",
        "  result = 1\n",
        "  for i in range(1, n+1):\n",
        "    result*=i\n",
        "  return result"
      ],
      "metadata": {
        "id": "uDWQk3IP74gY"
      },
      "execution_count": null,
      "outputs": []
    },
    {
      "cell_type": "code",
      "source": [
        "def factorial(n):\n",
        "    if n == 0:\n",
        "        return 1\n",
        "    else:\n",
        "        return n * factorial(n-1)"
      ],
      "metadata": {
        "id": "Dl4HCqjJWUvm"
      },
      "execution_count": null,
      "outputs": []
    },
    {
      "cell_type": "markdown",
      "source": [
        "3. Write a function that calculates the number of uppercase letters in a string"
      ],
      "metadata": {
        "id": "vQu2TYFo7yyi"
      }
    },
    {
      "cell_type": "code",
      "source": [
        "def count_uppercase(txt):\n",
        "  count = 0\n",
        "  for char in txt:\n",
        "    if char==char.upper():\n",
        "      count+=1\n",
        "  return count"
      ],
      "metadata": {
        "id": "WK0Qa9IO77BD"
      },
      "execution_count": null,
      "outputs": []
    },
    {
      "cell_type": "markdown",
      "source": [
        "# **Common Built-in Python Methods**\n",
        "\n"
      ],
      "metadata": {
        "id": "DJAFr1nHtOQl"
      }
    },
    {
      "cell_type": "code",
      "source": [
        "text = \"DatA SciEncE CLub\""
      ],
      "metadata": {
        "id": "QFXGBv2-sxc_"
      },
      "execution_count": null,
      "outputs": []
    },
    {
      "cell_type": "code",
      "source": [
        "text.upper()"
      ],
      "metadata": {
        "colab": {
          "base_uri": "https://localhost:8080/",
          "height": 36
        },
        "id": "_k_ntweUv39D",
        "outputId": "d58814f6-bc68-4cde-e967-6472b238fb25"
      },
      "execution_count": null,
      "outputs": [
        {
          "output_type": "execute_result",
          "data": {
            "text/plain": [
              "'DATA SCIENCE CLUB'"
            ],
            "application/vnd.google.colaboratory.intrinsic+json": {
              "type": "string"
            }
          },
          "metadata": {},
          "execution_count": 39
        }
      ]
    },
    {
      "cell_type": "code",
      "source": [
        "text.lower()"
      ],
      "metadata": {
        "colab": {
          "base_uri": "https://localhost:8080/",
          "height": 36
        },
        "id": "LDViRsDpv5JQ",
        "outputId": "26f23b8a-b36e-451a-d78e-3bbf02d430bb"
      },
      "execution_count": null,
      "outputs": [
        {
          "output_type": "execute_result",
          "data": {
            "text/plain": [
              "'data science club'"
            ],
            "application/vnd.google.colaboratory.intrinsic+json": {
              "type": "string"
            }
          },
          "metadata": {},
          "execution_count": 40
        }
      ]
    },
    {
      "cell_type": "code",
      "source": [
        "lst = text.split()\n",
        "lst"
      ],
      "metadata": {
        "colab": {
          "base_uri": "https://localhost:8080/"
        },
        "id": "Ncokp5i_v6ZR",
        "outputId": "597058b7-9c71-417f-b6b3-9ba3ffc0af1d"
      },
      "execution_count": null,
      "outputs": [
        {
          "output_type": "execute_result",
          "data": {
            "text/plain": [
              "['DatA', 'SciEncE', 'CLub']"
            ]
          },
          "metadata": {},
          "execution_count": 62
        }
      ]
    },
    {
      "cell_type": "code",
      "source": [
        "\"-\".join(lst)"
      ],
      "metadata": {
        "colab": {
          "base_uri": "https://localhost:8080/",
          "height": 36
        },
        "id": "mS4vm1FLb4Dv",
        "outputId": "68ace467-1235-4139-9bce-349dea8bf109"
      },
      "execution_count": null,
      "outputs": [
        {
          "output_type": "execute_result",
          "data": {
            "text/plain": [
              "'DatA-SciEncE-CLub'"
            ],
            "application/vnd.google.colaboratory.intrinsic+json": {
              "type": "string"
            }
          },
          "metadata": {},
          "execution_count": 49
        }
      ]
    },
    {
      "cell_type": "code",
      "source": [
        "text.count(\"E\")"
      ],
      "metadata": {
        "colab": {
          "base_uri": "https://localhost:8080/"
        },
        "id": "lsskUAKJcTB6",
        "outputId": "b59e05c2-51b5-44d1-e31b-631aac2b5b49"
      },
      "execution_count": null,
      "outputs": [
        {
          "output_type": "execute_result",
          "data": {
            "text/plain": [
              "2"
            ]
          },
          "metadata": {},
          "execution_count": 53
        }
      ]
    },
    {
      "cell_type": "code",
      "source": [
        "lst = [1,1,1,1,2,3,3,4,4,4,5,5]\n",
        "lst.count(1)"
      ],
      "metadata": {
        "colab": {
          "base_uri": "https://localhost:8080/"
        },
        "id": "3yHbnT8BbMwC",
        "outputId": "00968547-e0bf-48ae-c5cf-5c8713123d1b"
      },
      "execution_count": null,
      "outputs": [
        {
          "output_type": "execute_result",
          "data": {
            "text/plain": [
              "4"
            ]
          },
          "metadata": {},
          "execution_count": 63
        }
      ]
    },
    {
      "cell_type": "markdown",
      "source": [
        "*Exercise*\n",
        "1. You are given a string *s*. Print the proper format, that is each word should start with a capital letter."
      ],
      "metadata": {
        "id": "4RX-1A_bLiwR"
      }
    },
    {
      "cell_type": "code",
      "source": [
        "s = \"daTa\"\n",
        "\n",
        "print(s[0].upper() + s[1:].lower())"
      ],
      "metadata": {
        "colab": {
          "base_uri": "https://localhost:8080/"
        },
        "id": "MFThePqehoam",
        "outputId": "b592064e-ca08-45b0-e083-72dcbd860891"
      },
      "execution_count": null,
      "outputs": [
        {
          "output_type": "stream",
          "name": "stdout",
          "text": [
            "Data\n"
          ]
        }
      ]
    },
    {
      "cell_type": "markdown",
      "source": [
        "**!!! CHALLENGE YOURSELF !!!**\n",
        "Given a list of full name. Try to print their name in proper format."
      ],
      "metadata": {
        "id": "M7empeVOi2Bv"
      }
    },
    {
      "cell_type": "code",
      "source": [
        "names = [\"cAiTlYn RoAcH\", \"aShleiGh ELLisOn\", \"FINLEY vaughan\"]"
      ],
      "metadata": {
        "id": "fx9bgR6QjEP0"
      },
      "execution_count": null,
      "outputs": []
    },
    {
      "cell_type": "code",
      "source": [
        "for name in names:\n",
        "  word = name.split()\n",
        "  new_word = []\n",
        "\n",
        "  for s in word:\n",
        "    new_word.append(s[0].upper() + s[1:].lower())\n",
        "  \n",
        "  print((\" \".join(new_word)))"
      ],
      "metadata": {
        "colab": {
          "base_uri": "https://localhost:8080/"
        },
        "id": "VcQO4BnijGLr",
        "outputId": "8d513ffa-3a3d-4ce8-a472-a8ee1a0cfe97"
      },
      "execution_count": null,
      "outputs": [
        {
          "output_type": "stream",
          "name": "stdout",
          "text": [
            "Caitlyn Roach\n",
            "Ashleigh Ellison\n",
            "Finley Vaughan\n"
          ]
        }
      ]
    },
    {
      "cell_type": "markdown",
      "source": [
        "2. Return a list of email domain in the following list of emails.\n",
        "For example, abc@mail.com should return mail.com"
      ],
      "metadata": {
        "id": "uIVTCHB_eIqp"
      }
    },
    {
      "cell_type": "code",
      "source": [
        "emails = [\n",
        "  'sister_dibbert@yahoo.com',\n",
        "  'viviane_zboncak55@usf.edu',\n",
        "  'rahul.stoltenberg75@hotmail.com',\n",
        "  'kenna_boyer15@hotmail.com',\n",
        "  'newell_mueller56@gmail.com',\n",
        "  'jermain_pouros78@hotmail.com',\n",
        "  'jay_hauck57@gmail.com',\n",
        "  'samson_strosin61@usf.edu',\n",
        "  'ellie18@hotmail.com',\n",
        "  'leo_green31@hotmail.com',\n",
        "]"
      ],
      "metadata": {
        "id": "HLWxizH-LZaF"
      },
      "execution_count": null,
      "outputs": []
    },
    {
      "cell_type": "code",
      "source": [
        "for email in emails:\n",
        "  print(email.split(\"@\")[1])"
      ],
      "metadata": {
        "colab": {
          "base_uri": "https://localhost:8080/"
        },
        "id": "-x2VrGeFhjzX",
        "outputId": "ce44d110-1d91-47c8-d333-d963dfe95a9b"
      },
      "execution_count": null,
      "outputs": [
        {
          "output_type": "stream",
          "name": "stdout",
          "text": [
            "yahoo.com\n",
            "usf.edu\n",
            "hotmail.com\n",
            "hotmail.com\n",
            "gmail.com\n",
            "hotmail.com\n",
            "gmail.com\n",
            "usf.edu\n",
            "hotmail.com\n",
            "hotmail.com\n"
          ]
        }
      ]
    },
    {
      "cell_type": "markdown",
      "source": [
        "What is the most common email domain? What is the least common one?"
      ],
      "metadata": {
        "id": "u78ENNlKeWG5"
      }
    },
    {
      "cell_type": "code",
      "source": [
        "domain = [email.split(\"@\")[1] for email in emails]\n",
        "\n",
        "unique_domains = set(domain)\n",
        "max_count = 0\n",
        "most_common_domain = ''\n",
        "\n",
        "for s in unique_domains:\n",
        "    count = domain.count(s)\n",
        "    if count > max_count:\n",
        "        max_count = count\n",
        "        most_common_domain = s\n",
        "\n",
        "print(most_common_domain)"
      ],
      "metadata": {
        "id": "EAfG59EJe6Ux",
        "colab": {
          "base_uri": "https://localhost:8080/"
        },
        "outputId": "12ca8c15-04bf-41bb-a0d4-a4bba8d378ec"
      },
      "execution_count": null,
      "outputs": [
        {
          "output_type": "stream",
          "name": "stdout",
          "text": [
            "hotmail.com\n"
          ]
        }
      ]
    },
    {
      "cell_type": "code",
      "source": [
        "from collections import Counter\n",
        "\n",
        "domain = [email.split('@')[1] for email in emails]\n",
        "domain_counts = Counter(domain)\n",
        "print(domain_counts.most_common(1))"
      ],
      "metadata": {
        "colab": {
          "base_uri": "https://localhost:8080/"
        },
        "id": "Rh0ANpnw_vz5",
        "outputId": "32ade8de-8169-46ed-92e6-88fb7e962d90"
      },
      "execution_count": null,
      "outputs": [
        {
          "output_type": "stream",
          "name": "stdout",
          "text": [
            "[('hotmail.com', 5)]\n"
          ]
        }
      ]
    }
  ]
}